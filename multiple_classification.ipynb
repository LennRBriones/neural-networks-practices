{
  "nbformat": 4,
  "nbformat_minor": 0,
  "metadata": {
    "colab": {
      "provenance": [],
      "authorship_tag": "ABX9TyPfCWGjAMavBwH9BuxoYQy+",
      "include_colab_link": true
    },
    "kernelspec": {
      "name": "python3",
      "display_name": "Python 3"
    },
    "language_info": {
      "name": "python"
    },
    "accelerator": "GPU",
    "gpuClass": "standard"
  },
  "cells": [
    {
      "cell_type": "markdown",
      "metadata": {
        "id": "view-in-github",
        "colab_type": "text"
      },
      "source": [
        "<a href=\"https://colab.research.google.com/github/LennRBriones/neural-networks-practices/blob/main/multiple_classification.ipynb\" target=\"_parent\"><img src=\"https://colab.research.google.com/assets/colab-badge.svg\" alt=\"Open In Colab\"/></a>"
      ]
    },
    {
      "cell_type": "code",
      "execution_count": 22,
      "metadata": {
        "id": "R-aO_v0JVQ7S"
      },
      "outputs": [],
      "source": [
        "import numpy as np\n",
        "from keras import layers, models\n",
        "from keras.datasets import reuters #the dataset of news"
      ]
    },
    {
      "cell_type": "code",
      "source": [
        "(train_data, train_labels), (test_data, test_labels) = reuters.load_data(num_words=10000)\n",
        "                                                                ## Using the 10,000 most common words"
      ],
      "metadata": {
        "id": "NnaoQoU5VfVa"
      },
      "execution_count": 23,
      "outputs": []
    },
    {
      "cell_type": "code",
      "source": [
        "train_data[0]"
      ],
      "metadata": {
        "colab": {
          "base_uri": "https://localhost:8080/"
        },
        "id": "HJodUSpTWE87",
        "outputId": "cba5bc0e-8cce-4945-c9a6-65707cc9eb56"
      },
      "execution_count": 24,
      "outputs": [
        {
          "output_type": "execute_result",
          "data": {
            "text/plain": [
              "[1,\n",
              " 2,\n",
              " 2,\n",
              " 8,\n",
              " 43,\n",
              " 10,\n",
              " 447,\n",
              " 5,\n",
              " 25,\n",
              " 207,\n",
              " 270,\n",
              " 5,\n",
              " 3095,\n",
              " 111,\n",
              " 16,\n",
              " 369,\n",
              " 186,\n",
              " 90,\n",
              " 67,\n",
              " 7,\n",
              " 89,\n",
              " 5,\n",
              " 19,\n",
              " 102,\n",
              " 6,\n",
              " 19,\n",
              " 124,\n",
              " 15,\n",
              " 90,\n",
              " 67,\n",
              " 84,\n",
              " 22,\n",
              " 482,\n",
              " 26,\n",
              " 7,\n",
              " 48,\n",
              " 4,\n",
              " 49,\n",
              " 8,\n",
              " 864,\n",
              " 39,\n",
              " 209,\n",
              " 154,\n",
              " 6,\n",
              " 151,\n",
              " 6,\n",
              " 83,\n",
              " 11,\n",
              " 15,\n",
              " 22,\n",
              " 155,\n",
              " 11,\n",
              " 15,\n",
              " 7,\n",
              " 48,\n",
              " 9,\n",
              " 4579,\n",
              " 1005,\n",
              " 504,\n",
              " 6,\n",
              " 258,\n",
              " 6,\n",
              " 272,\n",
              " 11,\n",
              " 15,\n",
              " 22,\n",
              " 134,\n",
              " 44,\n",
              " 11,\n",
              " 15,\n",
              " 16,\n",
              " 8,\n",
              " 197,\n",
              " 1245,\n",
              " 90,\n",
              " 67,\n",
              " 52,\n",
              " 29,\n",
              " 209,\n",
              " 30,\n",
              " 32,\n",
              " 132,\n",
              " 6,\n",
              " 109,\n",
              " 15,\n",
              " 17,\n",
              " 12]"
            ]
          },
          "metadata": {},
          "execution_count": 24
        }
      ]
    },
    {
      "cell_type": "markdown",
      "source": [
        "Here the dataset gave us a code for that words, we need to ise a dictionary to tranform that code to words"
      ],
      "metadata": {
        "id": "4AJLwUicXk0F"
      }
    },
    {
      "cell_type": "code",
      "source": [
        "word_index = reuters.get_word_index()\n",
        "word_index = dict([(value,key) for (key,value) in word_index.items()])\n",
        "for i in train_data[0]:\n",
        "    print(word_index.get(i-3))"
      ],
      "metadata": {
        "colab": {
          "base_uri": "https://localhost:8080/"
        },
        "id": "ITLxY-sPWHgm",
        "outputId": "83da11d0-5731-4191-f75c-b0a5836dcee7"
      },
      "execution_count": 25,
      "outputs": [
        {
          "output_type": "stream",
          "name": "stdout",
          "text": [
            "None\n",
            "None\n",
            "None\n",
            "said\n",
            "as\n",
            "a\n",
            "result\n",
            "of\n",
            "its\n",
            "december\n",
            "acquisition\n",
            "of\n",
            "space\n",
            "co\n",
            "it\n",
            "expects\n",
            "earnings\n",
            "per\n",
            "share\n",
            "in\n",
            "1987\n",
            "of\n",
            "1\n",
            "15\n",
            "to\n",
            "1\n",
            "30\n",
            "dlrs\n",
            "per\n",
            "share\n",
            "up\n",
            "from\n",
            "70\n",
            "cts\n",
            "in\n",
            "1986\n",
            "the\n",
            "company\n",
            "said\n",
            "pretax\n",
            "net\n",
            "should\n",
            "rise\n",
            "to\n",
            "nine\n",
            "to\n",
            "10\n",
            "mln\n",
            "dlrs\n",
            "from\n",
            "six\n",
            "mln\n",
            "dlrs\n",
            "in\n",
            "1986\n",
            "and\n",
            "rental\n",
            "operation\n",
            "revenues\n",
            "to\n",
            "19\n",
            "to\n",
            "22\n",
            "mln\n",
            "dlrs\n",
            "from\n",
            "12\n",
            "5\n",
            "mln\n",
            "dlrs\n",
            "it\n",
            "said\n",
            "cash\n",
            "flow\n",
            "per\n",
            "share\n",
            "this\n",
            "year\n",
            "should\n",
            "be\n",
            "2\n",
            "50\n",
            "to\n",
            "three\n",
            "dlrs\n",
            "reuter\n",
            "3\n"
          ]
        }
      ]
    },
    {
      "cell_type": "code",
      "source": [
        "train_labels[0] #here we can see that the output could be 3 outputs"
      ],
      "metadata": {
        "colab": {
          "base_uri": "https://localhost:8080/"
        },
        "id": "JsULpOSplfWz",
        "outputId": "3782c18f-9c5e-4962-8ae0-d5e5066af7eb"
      },
      "execution_count": 26,
      "outputs": [
        {
          "output_type": "execute_result",
          "data": {
            "text/plain": [
              "3"
            ]
          },
          "metadata": {},
          "execution_count": 26
        }
      ]
    },
    {
      "cell_type": "code",
      "source": [
        "train_data.shape"
      ],
      "metadata": {
        "colab": {
          "base_uri": "https://localhost:8080/"
        },
        "id": "YWrD0UEn4TYk",
        "outputId": "5d873418-7c35-4117-953e-496911599e67"
      },
      "execution_count": 27,
      "outputs": [
        {
          "output_type": "execute_result",
          "data": {
            "text/plain": [
              "(8982,)"
            ]
          },
          "metadata": {},
          "execution_count": 27
        }
      ]
    },
    {
      "cell_type": "markdown",
      "source": [
        "Here we can see a common problem, the dataset is not a tensor, so we need change it"
      ],
      "metadata": {
        "id": "V2OauF6L4sdV"
      }
    },
    {
      "cell_type": "code",
      "source": [
        "## Vectorization help us to dimention the tenser\n",
        "def vectorization(sequences, dim=10000):\n",
        "    results = np.zeros((len(sequences),dim))\n",
        "    for j, sequences in enumerate(sequences):\n",
        "        results[j,sequences]=1\n",
        "    return results"
      ],
      "metadata": {
        "id": "SSO2tIXL4q-s"
      },
      "execution_count": 28,
      "outputs": []
    },
    {
      "cell_type": "code",
      "source": [
        "x_train = vectorization(train_data)\n",
        "x_test = vectorization(test_data)"
      ],
      "metadata": {
        "id": "BlHdyXGy5VTz"
      },
      "execution_count": 29,
      "outputs": []
    },
    {
      "cell_type": "code",
      "source": [
        "#Here exist the problem with te structure, we need one hot encoding to make it categorical \n",
        "train_labels[0]"
      ],
      "metadata": {
        "colab": {
          "base_uri": "https://localhost:8080/"
        },
        "id": "AS2CvVJa5r5m",
        "outputId": "a9d13612-c681-4de4-a69a-823ef3982be1"
      },
      "execution_count": 30,
      "outputs": [
        {
          "output_type": "execute_result",
          "data": {
            "text/plain": [
              "3"
            ]
          },
          "metadata": {},
          "execution_count": 30
        }
      ]
    },
    {
      "cell_type": "code",
      "source": [
        "from keras.utils import to_categorical #here is needed categorical because we are working\n",
        "                                       # with classification"
      ],
      "metadata": {
        "id": "xVXLC3d66Lk9"
      },
      "execution_count": 31,
      "outputs": []
    },
    {
      "cell_type": "code",
      "source": [
        "y_train = to_categorical(train_labels)\n",
        "y_test = to_categorical(test_labels)"
      ],
      "metadata": {
        "id": "Klxs8qmQ640p"
      },
      "execution_count": 32,
      "outputs": []
    },
    {
      "cell_type": "code",
      "source": [
        "y_train[0]\n",
        "#this structure is as a tensor, thats what we need \n",
        "#(As you see, at te begining we use [0] and we get a 3, now as array te number 1 is at position 3)"
      ],
      "metadata": {
        "colab": {
          "base_uri": "https://localhost:8080/"
        },
        "id": "11pJbNsG7A5d",
        "outputId": "70e5d970-023f-41f4-e8af-620206c16dc8"
      },
      "execution_count": 33,
      "outputs": [
        {
          "output_type": "execute_result",
          "data": {
            "text/plain": [
              "array([0., 0., 0., 1., 0., 0., 0., 0., 0., 0., 0., 0., 0., 0., 0., 0., 0.,\n",
              "       0., 0., 0., 0., 0., 0., 0., 0., 0., 0., 0., 0., 0., 0., 0., 0., 0.,\n",
              "       0., 0., 0., 0., 0., 0., 0., 0., 0., 0., 0., 0.], dtype=float32)"
            ]
          },
          "metadata": {},
          "execution_count": 33
        }
      ]
    },
    {
      "cell_type": "code",
      "source": [
        "model = models.Sequential()\n",
        "#first layers         # 64 neurons     #relu as usual in hidden layers\n",
        "model.add(layers.Dense(64, activation=\"relu\", input_shape = (10000,)))\n",
        "model.add(layers.Dense(64, activation=\"relu\"))\n",
        "model.add(layers.Dense(46, activation=\"softmax\")) #Instead Sigmoid we use softmax that help us with multiple outputs\n",
        "                #46 because we have 46 possible outputs\n",
        "\n"
      ],
      "metadata": {
        "id": "Q6fq-Hek7M3_"
      },
      "execution_count": 45,
      "outputs": []
    },
    {
      "cell_type": "code",
      "source": [
        "model.compile(optimizer=\"rmsprop\",\n",
        "              loss =\"categorical_crossentropy\", #this help us in categorical, multiple outputs\n",
        "              metrics = [\"accuracy\"]) "
      ],
      "metadata": {
        "id": "24Zaa2yG8ziD"
      },
      "execution_count": 46,
      "outputs": []
    },
    {
      "cell_type": "code",
      "source": [
        "#separating our variaton set\n",
        "x_val = x_train[:1000]\n",
        "partial_x_train = x_train[1000:] #here is the opossitive\n",
        "\n",
        "y_val = y_train[:1000]\n",
        "partial_y_train = y_train[1000:]"
      ],
      "metadata": {
        "id": "2rukmI-n9MJX"
      },
      "execution_count": 36,
      "outputs": []
    },
    {
      "cell_type": "markdown",
      "source": [
        "## Training "
      ],
      "metadata": {
        "id": "TPklKKvN92BR"
      }
    },
    {
      "cell_type": "code",
      "source": [
        "history = model.fit(partial_x_train, partial_y_train,\n",
        "          epochs=30,\n",
        "          batch_size = 512, #lote data\n",
        "          validation_data=(x_val,y_val)) #validation"
      ],
      "metadata": {
        "id": "6tEJy1LP90uG",
        "colab": {
          "base_uri": "https://localhost:8080/"
        },
        "outputId": "c139ac49-ac3b-4b64-9aa9-39b1a9d1f94b"
      },
      "execution_count": 37,
      "outputs": [
        {
          "output_type": "stream",
          "name": "stdout",
          "text": [
            "Epoch 1/30\n",
            "16/16 [==============================] - 1s 32ms/step - loss: 2.5173 - accuracy: 0.4957 - val_loss: 1.7269 - val_accuracy: 0.6380\n",
            "Epoch 2/30\n",
            "16/16 [==============================] - 0s 16ms/step - loss: 1.4827 - accuracy: 0.6891 - val_loss: 1.3579 - val_accuracy: 0.7020\n",
            "Epoch 3/30\n",
            "16/16 [==============================] - 0s 18ms/step - loss: 1.1622 - accuracy: 0.7523 - val_loss: 1.1940 - val_accuracy: 0.7440\n",
            "Epoch 4/30\n",
            "16/16 [==============================] - 0s 17ms/step - loss: 0.9536 - accuracy: 0.7984 - val_loss: 1.0961 - val_accuracy: 0.7650\n",
            "Epoch 5/30\n",
            "16/16 [==============================] - 0s 19ms/step - loss: 0.7901 - accuracy: 0.8345 - val_loss: 1.0152 - val_accuracy: 0.7790\n",
            "Epoch 6/30\n",
            "16/16 [==============================] - 0s 17ms/step - loss: 0.6549 - accuracy: 0.8598 - val_loss: 0.9379 - val_accuracy: 0.7950\n",
            "Epoch 7/30\n",
            "16/16 [==============================] - 0s 17ms/step - loss: 0.5416 - accuracy: 0.8851 - val_loss: 0.9214 - val_accuracy: 0.8100\n",
            "Epoch 8/30\n",
            "16/16 [==============================] - 0s 17ms/step - loss: 0.4513 - accuracy: 0.9039 - val_loss: 0.8741 - val_accuracy: 0.8170\n",
            "Epoch 9/30\n",
            "16/16 [==============================] - 0s 16ms/step - loss: 0.3788 - accuracy: 0.9218 - val_loss: 0.8574 - val_accuracy: 0.8140\n",
            "Epoch 10/30\n",
            "16/16 [==============================] - 0s 19ms/step - loss: 0.3189 - accuracy: 0.9335 - val_loss: 0.8400 - val_accuracy: 0.8260\n",
            "Epoch 11/30\n",
            "16/16 [==============================] - 0s 17ms/step - loss: 0.2755 - accuracy: 0.9376 - val_loss: 0.8589 - val_accuracy: 0.8190\n",
            "Epoch 12/30\n",
            "16/16 [==============================] - 0s 19ms/step - loss: 0.2463 - accuracy: 0.9435 - val_loss: 0.8609 - val_accuracy: 0.8180\n",
            "Epoch 13/30\n",
            "16/16 [==============================] - 0s 17ms/step - loss: 0.2121 - accuracy: 0.9509 - val_loss: 0.8722 - val_accuracy: 0.8220\n",
            "Epoch 14/30\n",
            "16/16 [==============================] - 0s 19ms/step - loss: 0.1928 - accuracy: 0.9514 - val_loss: 0.8798 - val_accuracy: 0.8190\n",
            "Epoch 15/30\n",
            "16/16 [==============================] - 0s 22ms/step - loss: 0.1732 - accuracy: 0.9529 - val_loss: 0.8771 - val_accuracy: 0.8080\n",
            "Epoch 16/30\n",
            "16/16 [==============================] - 0s 23ms/step - loss: 0.1674 - accuracy: 0.9525 - val_loss: 0.8991 - val_accuracy: 0.8180\n",
            "Epoch 17/30\n",
            "16/16 [==============================] - 0s 23ms/step - loss: 0.1559 - accuracy: 0.9563 - val_loss: 0.9359 - val_accuracy: 0.8100\n",
            "Epoch 18/30\n",
            "16/16 [==============================] - 0s 22ms/step - loss: 0.1472 - accuracy: 0.9563 - val_loss: 0.9213 - val_accuracy: 0.8170\n",
            "Epoch 19/30\n",
            "16/16 [==============================] - 0s 20ms/step - loss: 0.1349 - accuracy: 0.9577 - val_loss: 0.9029 - val_accuracy: 0.8150\n",
            "Epoch 20/30\n",
            "16/16 [==============================] - 0s 22ms/step - loss: 0.1294 - accuracy: 0.9567 - val_loss: 0.9356 - val_accuracy: 0.8140\n",
            "Epoch 21/30\n",
            "16/16 [==============================] - 0s 19ms/step - loss: 0.1292 - accuracy: 0.9582 - val_loss: 0.9605 - val_accuracy: 0.8150\n",
            "Epoch 22/30\n",
            "16/16 [==============================] - 0s 17ms/step - loss: 0.1242 - accuracy: 0.9584 - val_loss: 0.9681 - val_accuracy: 0.8060\n",
            "Epoch 23/30\n",
            "16/16 [==============================] - 0s 17ms/step - loss: 0.1204 - accuracy: 0.9578 - val_loss: 0.9212 - val_accuracy: 0.8140\n",
            "Epoch 24/30\n",
            "16/16 [==============================] - 0s 17ms/step - loss: 0.1187 - accuracy: 0.9582 - val_loss: 0.9619 - val_accuracy: 0.8110\n",
            "Epoch 25/30\n",
            "16/16 [==============================] - 0s 17ms/step - loss: 0.1161 - accuracy: 0.9579 - val_loss: 0.9693 - val_accuracy: 0.8060\n",
            "Epoch 26/30\n",
            "16/16 [==============================] - 0s 17ms/step - loss: 0.1139 - accuracy: 0.9590 - val_loss: 0.9766 - val_accuracy: 0.8060\n",
            "Epoch 27/30\n",
            "16/16 [==============================] - 0s 17ms/step - loss: 0.1061 - accuracy: 0.9587 - val_loss: 0.9866 - val_accuracy: 0.8150\n",
            "Epoch 28/30\n",
            "16/16 [==============================] - 0s 16ms/step - loss: 0.1102 - accuracy: 0.9578 - val_loss: 1.0155 - val_accuracy: 0.8020\n",
            "Epoch 29/30\n",
            "16/16 [==============================] - 0s 19ms/step - loss: 0.1081 - accuracy: 0.9595 - val_loss: 1.0182 - val_accuracy: 0.8060\n",
            "Epoch 30/30\n",
            "16/16 [==============================] - 0s 16ms/step - loss: 0.1058 - accuracy: 0.9580 - val_loss: 1.0182 - val_accuracy: 0.8090\n"
          ]
        }
      ]
    },
    {
      "cell_type": "code",
      "source": [
        "import matplotlib.pyplot as plt\n",
        "\n",
        "history_dict = history.history\n",
        "loss_values = history_dict[\"loss\"]\n",
        "val_loss_values = history_dict[\"val_loss\"]\n",
        "\n",
        "fig = plt.figure(figsize=(10,10)) #now we have 30 epochs, to better image we changed the view\n",
        "epoch = range (1, len(loss_values) +1)\n",
        "plt.plot(epoch, loss_values, \"o\", label = \"training\")\n",
        "plt.plot(epoch, val_loss_values, \"--\", label = \"validation\")\n",
        "plt.legend()\n",
        "plt.show()"
      ],
      "metadata": {
        "colab": {
          "base_uri": "https://localhost:8080/",
          "height": 592
        },
        "id": "HZvi3JFTpLxg",
        "outputId": "40f5f6eb-c01b-4608-8ab8-3e5eb036b3bc"
      },
      "execution_count": 38,
      "outputs": [
        {
          "output_type": "display_data",
          "data": {
            "text/plain": [
              "<Figure size 720x720 with 1 Axes>"
            ],
            "image/png": "[encoded data removed]"
          },
          "metadata": {
            "needs_background": "light"
          }
        }
      ]
    },
    {
      "cell_type": "code",
      "source": [
        "history_dict"
      ],
      "metadata": {
        "colab": {
          "base_uri": "https://localhost:8080/"
        },
        "id": "90zpp1pKqHb5",
        "outputId": "2037236f-031c-4764-d8e8-fea7752633a2"
      },
      "execution_count": 39,
      "outputs": [
        {
          "output_type": "execute_result",
          "data": {
            "text/plain": [
              "{'loss': [2.5173447132110596,\n",
              "  1.4827297925949097,\n",
              "  1.162196159362793,\n",
              "  0.9536256194114685,\n",
              "  0.7901091575622559,\n",
              "  0.6549455523490906,\n",
              "  0.5415552258491516,\n",
              "  0.4513292610645294,\n",
              "  0.3787875175476074,\n",
              "  0.31890326738357544,\n",
              "  0.27548807859420776,\n",
              "  0.24634037911891937,\n",
              "  0.2121003419160843,\n",
              "  0.1927832067012787,\n",
              "  0.17324894666671753,\n",
              "  0.1673903912305832,\n",
              "  0.155941441655159,\n",
              "  0.1471911072731018,\n",
              "  0.1349361538887024,\n",
              "  0.12936821579933167,\n",
              "  0.1292191445827484,\n",
              "  0.12422146648168564,\n",
              "  0.12036161124706268,\n",
              "  0.11869865655899048,\n",
              "  0.11607211083173752,\n",
              "  0.1138976588845253,\n",
              "  0.10606912523508072,\n",
              "  0.11018271744251251,\n",
              "  0.10809263586997986,\n",
              "  0.105838842689991],\n",
              " 'accuracy': [0.4957404136657715,\n",
              "  0.6890503764152527,\n",
              "  0.7523177266120911,\n",
              "  0.7984214425086975,\n",
              "  0.834502637386322,\n",
              "  0.8598095774650574,\n",
              "  0.8851165175437927,\n",
              "  0.9039087891578674,\n",
              "  0.9218240976333618,\n",
              "  0.9334753155708313,\n",
              "  0.9376096129417419,\n",
              "  0.943497896194458,\n",
              "  0.950889527797699,\n",
              "  0.9513906240463257,\n",
              "  0.9528940320014954,\n",
              "  0.9525181651115417,\n",
              "  0.9562765955924988,\n",
              "  0.9562765955924988,\n",
              "  0.9576547145843506,\n",
              "  0.9566524624824524,\n",
              "  0.9581558704376221,\n",
              "  0.958406388759613,\n",
              "  0.9577800035476685,\n",
              "  0.9581558704376221,\n",
              "  0.9579052925109863,\n",
              "  0.9590328335762024,\n",
              "  0.9586569666862488,\n",
              "  0.9577800035476685,\n",
              "  0.9595339298248291,\n",
              "  0.9580305814743042],\n",
              " 'val_loss': [1.7269445657730103,\n",
              "  1.3578577041625977,\n",
              "  1.1940356492996216,\n",
              "  1.0961377620697021,\n",
              "  1.0151536464691162,\n",
              "  0.9379024505615234,\n",
              "  0.9213767051696777,\n",
              "  0.8741305470466614,\n",
              "  0.8574239015579224,\n",
              "  0.8399869203567505,\n",
              "  0.8589348196983337,\n",
              "  0.8609095215797424,\n",
              "  0.8722082376480103,\n",
              "  0.8798148036003113,\n",
              "  0.8771023750305176,\n",
              "  0.8990710377693176,\n",
              "  0.9359411597251892,\n",
              "  0.9212676882743835,\n",
              "  0.9028527736663818,\n",
              "  0.9355661869049072,\n",
              "  0.960511326789856,\n",
              "  0.9681391716003418,\n",
              "  0.9211972951889038,\n",
              "  0.9618885517120361,\n",
              "  0.9692927598953247,\n",
              "  0.9766004681587219,\n",
              "  0.9866141676902771,\n",
              "  1.0155470371246338,\n",
              "  1.0182039737701416,\n",
              "  1.0182499885559082],\n",
              " 'val_accuracy': [0.6380000114440918,\n",
              "  0.7020000219345093,\n",
              "  0.7440000176429749,\n",
              "  0.7649999856948853,\n",
              "  0.7789999842643738,\n",
              "  0.7950000166893005,\n",
              "  0.8100000023841858,\n",
              "  0.8169999718666077,\n",
              "  0.8140000104904175,\n",
              "  0.8259999752044678,\n",
              "  0.8190000057220459,\n",
              "  0.8180000185966492,\n",
              "  0.8220000267028809,\n",
              "  0.8190000057220459,\n",
              "  0.8080000281333923,\n",
              "  0.8180000185966492,\n",
              "  0.8100000023841858,\n",
              "  0.8169999718666077,\n",
              "  0.8149999976158142,\n",
              "  0.8140000104904175,\n",
              "  0.8149999976158142,\n",
              "  0.8059999942779541,\n",
              "  0.8140000104904175,\n",
              "  0.8109999895095825,\n",
              "  0.8059999942779541,\n",
              "  0.8059999942779541,\n",
              "  0.8149999976158142,\n",
              "  0.8019999861717224,\n",
              "  0.8059999942779541,\n",
              "  0.8090000152587891]}"
            ]
          },
          "metadata": {},
          "execution_count": 39
        }
      ]
    },
    {
      "cell_type": "markdown",
      "source": [
        "Checking accuracy"
      ],
      "metadata": {
        "id": "WI1srEJa7yek"
      }
    },
    {
      "cell_type": "code",
      "source": [
        "import matplotlib.pyplot as plt\n",
        "\n",
        "history_dict = history.history\n",
        "loss_values = history_dict[\"accuracy\"]\n",
        "val_loss_values = history_dict[\"val_accuracy\"]\n",
        "\n",
        "fig = plt.figure(figsize=(10,10)) #now we have 30 epochs, to better image we changed the view\n",
        "epoch = range (1, len(loss_values) +1)\n",
        "plt.plot(epoch, loss_values, \"o\", label = \"training\")\n",
        "plt.plot(epoch, val_loss_values, \"--\", label = \"validation\")\n",
        "plt.legend()\n",
        "plt.show()"
      ],
      "metadata": {
        "colab": {
          "base_uri": "https://localhost:8080/",
          "height": 592
        },
        "id": "Tyi3JuTWqSTX",
        "outputId": "74bbecd9-d335-4e90-fc06-df3f1536127a"
      },
      "execution_count": 40,
      "outputs": [
        {
          "output_type": "display_data",
          "data": {
            "text/plain": [
              "<Figure size 720x720 with 1 Axes>"
            ],
            "image/png": "[encoded data removed]"
          },
          "metadata": {
            "needs_background": "light"
          }
        }
      ]
    },
    {
      "cell_type": "markdown",
      "source": [
        "the accuracy in the training is learning very well, getting a 100, perhaps the validation data is getting stuck in certain point "
      ],
      "metadata": {
        "id": "CjsqpqSc9b9I"
      }
    },
    {
      "cell_type": "code",
      "source": [
        "model.evaluate(x_test,y_test)"
      ],
      "metadata": {
        "colab": {
          "base_uri": "https://localhost:8080/"
        },
        "id": "26oJu6rR9ZbE",
        "outputId": "d1e12eb5-b377-4cff-d575-2f884db752cb"
      },
      "execution_count": 41,
      "outputs": [
        {
          "output_type": "stream",
          "name": "stdout",
          "text": [
            "71/71 [==============================] - 0s 3ms/step - loss: 1.1167 - accuracy: 0.7947\n"
          ]
        },
        {
          "output_type": "execute_result",
          "data": {
            "text/plain": [
              "[1.116707444190979, 0.7947462201118469]"
            ]
          },
          "metadata": {},
          "execution_count": 41
        }
      ]
    },
    {
      "cell_type": "markdown",
      "source": [
        "The acuracy looks well, but the problem is te validation data, around the epoch 10 had the best data, so we can try doing the model with only 10 to get a little better results"
      ],
      "metadata": {
        "id": "OoLxH8kI-cVP"
      }
    },
    {
      "cell_type": "markdown",
      "source": [
        "## Trying with less epoch \n",
        " this to reduce the cpu usage & innecesary iterations\n",
        "\n",
        "(REMEMBER: the cache could be a problem, so if you want to try with different epochs you need to run again the model and the compiler, then you can do the training with less or more e\n",
        "epochs"
      ],
      "metadata": {
        "id": "oHVUec7kAI8Z"
      }
    },
    {
      "cell_type": "code",
      "source": [
        "history = model.fit(partial_x_train, partial_y_train,\n",
        "          epochs=10,\n",
        "          batch_size = 512, #lote data\n",
        "          validation_data=(x_val,y_val)) #validation"
      ],
      "metadata": {
        "colab": {
          "base_uri": "https://localhost:8080/"
        },
        "id": "hSI_ylMz9zYw",
        "outputId": "d9e854fc-ad4a-4198-e90a-87fb5bd28619"
      },
      "execution_count": 47,
      "outputs": [
        {
          "output_type": "stream",
          "name": "stdout",
          "text": [
            "Epoch 1/10\n",
            "16/16 [==============================] - 1s 32ms/step - loss: 2.4885 - accuracy: 0.5322 - val_loss: 1.6728 - val_accuracy: 0.6250\n",
            "Epoch 2/10\n",
            "16/16 [==============================] - 0s 17ms/step - loss: 1.4564 - accuracy: 0.6770 - val_loss: 1.3223 - val_accuracy: 0.6960\n",
            "Epoch 3/10\n",
            "16/16 [==============================] - 0s 19ms/step - loss: 1.1579 - accuracy: 0.7335 - val_loss: 1.1760 - val_accuracy: 0.7380\n",
            "Epoch 4/10\n",
            "16/16 [==============================] - 0s 20ms/step - loss: 0.9709 - accuracy: 0.7798 - val_loss: 1.0810 - val_accuracy: 0.7610\n",
            "Epoch 5/10\n",
            "16/16 [==============================] - 0s 18ms/step - loss: 0.8195 - accuracy: 0.8196 - val_loss: 1.0150 - val_accuracy: 0.7710\n",
            "Epoch 6/10\n",
            "16/16 [==============================] - 0s 16ms/step - loss: 0.6890 - accuracy: 0.8475 - val_loss: 0.9535 - val_accuracy: 0.7930\n",
            "Epoch 7/10\n",
            "16/16 [==============================] - 0s 20ms/step - loss: 0.5774 - accuracy: 0.8765 - val_loss: 0.9072 - val_accuracy: 0.8100\n",
            "Epoch 8/10\n",
            "16/16 [==============================] - 0s 17ms/step - loss: 0.4853 - accuracy: 0.8985 - val_loss: 0.8887 - val_accuracy: 0.7980\n",
            "Epoch 9/10\n",
            "16/16 [==============================] - 0s 17ms/step - loss: 0.4093 - accuracy: 0.9133 - val_loss: 0.8730 - val_accuracy: 0.8070\n",
            "Epoch 10/10\n",
            "16/16 [==============================] - 0s 16ms/step - loss: 0.3481 - accuracy: 0.9263 - val_loss: 0.8831 - val_accuracy: 0.8110\n"
          ]
        }
      ]
    },
    {
      "cell_type": "code",
      "source": [
        "import matplotlib.pyplot as plt\n",
        "\n",
        "history_dict = history.history\n",
        "loss_values = history_dict[\"loss\"]\n",
        "val_loss_values = history_dict[\"val_loss\"]\n",
        "\n",
        "fig = plt.figure(figsize=(10,10)) #now we have 30 epochs, to better image we changed the view\n",
        "epoch = range (1, len(loss_values) +1)\n",
        "plt.plot(epoch, loss_values, \"o\", label = \"training\")\n",
        "plt.plot(epoch, val_loss_values, \"--\", label = \"validation\")\n",
        "plt.legend()\n",
        "plt.show()"
      ],
      "metadata": {
        "colab": {
          "base_uri": "https://localhost:8080/",
          "height": 592
        },
        "id": "8RKddaYt_ozw",
        "outputId": "471b9583-63f1-450f-b4ec-05c503efb915"
      },
      "execution_count": 48,
      "outputs": [
        {
          "output_type": "display_data",
          "data": {
            "text/plain": [
              "<Figure size 720x720 with 1 Axes>"
            ],
            "image/png": "[encoded data removed]"
          },
          "metadata": {
            "needs_background": "light"
          }
        }
      ]
    },
    {
      "cell_type": "code",
      "source": [
        "import matplotlib.pyplot as plt\n",
        "\n",
        "history_dict = history.history\n",
        "loss_values = history_dict[\"accuracy\"]\n",
        "val_loss_values = history_dict[\"val_accuracy\"]\n",
        "\n",
        "fig = plt.figure(figsize=(10,10)) #now we have 30 epochs, to better image we changed the view\n",
        "epoch = range (1, len(loss_values) +1)\n",
        "plt.plot(epoch, loss_values, \"o\", label = \"training\")\n",
        "plt.plot(epoch, val_loss_values, \"--\", label = \"validation\")\n",
        "plt.legend()\n",
        "plt.show()"
      ],
      "metadata": {
        "colab": {
          "base_uri": "https://localhost:8080/",
          "height": 592
        },
        "id": "g85GGYp0_SyF",
        "outputId": "7b9e4e12-b98c-4d98-d231-855631dca8b5"
      },
      "execution_count": 49,
      "outputs": [
        {
          "output_type": "display_data",
          "data": {
            "text/plain": [
              "<Figure size 720x720 with 1 Axes>"
            ],
            "image/png": "[encoded data removed]"
          },
          "metadata": {
            "needs_background": "light"
          }
        }
      ]
    },
    {
      "cell_type": "code",
      "source": [
        "model.evaluate(x_test,y_test)"
      ],
      "metadata": {
        "colab": {
          "base_uri": "https://localhost:8080/"
        },
        "id": "d_d5EjQj_Xh2",
        "outputId": "40580487-4585-469e-c1b5-ecdbe0d2da77"
      },
      "execution_count": 50,
      "outputs": [
        {
          "output_type": "stream",
          "name": "stdout",
          "text": [
            "71/71 [==============================] - 0s 4ms/step - loss: 0.9392 - accuracy: 0.7881\n"
          ]
        },
        {
          "output_type": "execute_result",
          "data": {
            "text/plain": [
              "[0.9391699433326721, 0.7880676984786987]"
            ]
          },
          "metadata": {},
          "execution_count": 50
        }
      ]
    },
    {
      "cell_type": "markdown",
      "source": [
        "## Making predictions"
      ],
      "metadata": {
        "id": "sNkv6MdaAwm7"
      }
    },
    {
      "cell_type": "code",
      "source": [
        "predictions = model.predict(x_test)"
      ],
      "metadata": {
        "colab": {
          "base_uri": "https://localhost:8080/"
        },
        "id": "_uZcmD26Ayfb",
        "outputId": "9cb3a4a3-142f-468c-8ed0-2fedd8879a0b"
      },
      "execution_count": 53,
      "outputs": [
        {
          "output_type": "stream",
          "name": "stdout",
          "text": [
            "71/71 [==============================] - 0s 3ms/step\n"
          ]
        }
      ]
    },
    {
      "cell_type": "code",
      "source": [
        "predictions[0]"
      ],
      "metadata": {
        "colab": {
          "base_uri": "https://localhost:8080/"
        },
        "id": "Q-EZUJmdA1m6",
        "outputId": "9ebc1a50-141d-4cc3-cbb0-506c25928914"
      },
      "execution_count": 54,
      "outputs": [
        {
          "output_type": "execute_result",
          "data": {
            "text/plain": [
              "array([9.6858101e-05, 2.6372223e-05, 1.7264172e-06, 9.7624296e-01,\n",
              "       1.7896777e-02, 2.3242430e-06, 1.0302038e-04, 9.2231494e-05,\n",
              "       1.7379601e-03, 6.9130947e-06, 3.9944653e-06, 5.6717900e-04,\n",
              "       3.3688953e-05, 3.6090754e-05, 1.0381562e-04, 1.9634392e-05,\n",
              "       2.6942001e-04, 6.6545406e-05, 3.2959368e-05, 3.8017039e-04,\n",
              "       7.6139841e-04, 7.8457830e-05, 1.5093741e-05, 7.4773518e-05,\n",
              "       4.0207240e-05, 1.9535930e-04, 9.6211727e-07, 1.6533947e-04,\n",
              "       4.8959928e-06, 3.8764789e-04, 5.7394082e-05, 3.3113720e-05,\n",
              "       1.8955080e-07, 2.1327883e-06, 5.0265785e-06, 2.8422184e-05,\n",
              "       5.2694148e-05, 1.9250037e-05, 7.6192059e-06, 2.7929858e-04,\n",
              "       1.2951402e-05, 3.0726173e-05, 1.2065473e-05, 4.8743809e-06,\n",
              "       7.3054298e-06, 2.0175894e-06], dtype=float32)"
            ]
          },
          "metadata": {},
          "execution_count": 54
        }
      ]
    },
    {
      "cell_type": "markdown",
      "source": [
        "here we are viewing a layer with 46 neurons, that means 46 possible results and everyone have their weight"
      ],
      "metadata": {
        "id": "pzU3mg6MBOUr"
      }
    },
    {
      "cell_type": "code",
      "source": [
        "np.sum(predictions[0]) ## as we can see the sum is almost 1"
      ],
      "metadata": {
        "colab": {
          "base_uri": "https://localhost:8080/"
        },
        "id": "kvtBAIBmA2kf",
        "outputId": "4bd8e955-0b32-4f77-f298-7bbae37acc56"
      },
      "execution_count": 55,
      "outputs": [
        {
          "output_type": "execute_result",
          "data": {
            "text/plain": [
              "0.9999998"
            ]
          },
          "metadata": {},
          "execution_count": 55
        }
      ]
    },
    {
      "cell_type": "code",
      "source": [
        "np.argmax(predictions[0]) #showing us which position is the higher "
      ],
      "metadata": {
        "colab": {
          "base_uri": "https://localhost:8080/"
        },
        "id": "dk9qn5yuBrTb",
        "outputId": "ea53fe98-d781-4078-f161-fffc7047ff8d"
      },
      "execution_count": 56,
      "outputs": [
        {
          "output_type": "execute_result",
          "data": {
            "text/plain": [
              "3"
            ]
          },
          "metadata": {},
          "execution_count": 56
        }
      ]
    },
    {
      "cell_type": "markdown",
      "source": [
        "## Training with regularizers & dropout to get better results"
      ],
      "metadata": {
        "id": "iAAUvmfdDt2C"
      }
    },
    {
      "cell_type": "code",
      "source": [
        "from keras import regularizers"
      ],
      "metadata": {
        "id": "QIbVSy5lDtVW"
      },
      "execution_count": 57,
      "outputs": []
    },
    {
      "cell_type": "code",
      "source": [
        "model2 = models.Sequential()\n",
        "model2.add(layers.Dense(64, activation=\"relu\", input_shape=(10000,)\n",
        "                       ,kernel_regularizer=regularizers.l2(0.0001)))\n",
        "model2.add(layers.Dropout(0.3))\n",
        "model2.add(layers.Dense(64, activation=\"relu\",\n",
        "                        kernel_regularizer=regularizers.l1_l2(0.0001, 0.001)))\n",
        "\n",
        "model2.add(layers.Dense(46, activation=\"softmax\"))"
      ],
      "metadata": {
        "id": "PFob8zPJEDUE"
      },
      "execution_count": 58,
      "outputs": []
    },
    {
      "cell_type": "code",
      "source": [
        "model2.compile(optimizer=\"rmsprop\",\n",
        "              loss=\"categorical_crossentropy\",\n",
        "              metrics=[\"accuracy\"])"
      ],
      "metadata": {
        "id": "E2PsluvgFSG7"
      },
      "execution_count": 60,
      "outputs": []
    },
    {
      "cell_type": "code",
      "source": [
        "history2 = model2.fit(partial_x_train, partial_y_train,\n",
        "                      epochs=17,\n",
        "                      batch_size=512,\n",
        "                      validation_data=(x_val, y_val))"
      ],
      "metadata": {
        "colab": {
          "base_uri": "https://localhost:8080/"
        },
        "id": "vl_X11zDFiRH",
        "outputId": "bdb0710d-7ac2-4057-97a1-a38244ae98a0"
      },
      "execution_count": 61,
      "outputs": [
        {
          "output_type": "stream",
          "name": "stdout",
          "text": [
            "Epoch 1/17\n",
            "16/16 [==============================] - 1s 32ms/step - loss: 2.9769 - accuracy: 0.4509 - val_loss: 2.0339 - val_accuracy: 0.5910\n",
            "Epoch 2/17\n",
            "16/16 [==============================] - 0s 20ms/step - loss: 1.8013 - accuracy: 0.6384 - val_loss: 1.5697 - val_accuracy: 0.6680\n",
            "Epoch 3/17\n",
            "16/16 [==============================] - 0s 19ms/step - loss: 1.4571 - accuracy: 0.6954 - val_loss: 1.3858 - val_accuracy: 0.7140\n",
            "Epoch 4/17\n",
            "16/16 [==============================] - 0s 18ms/step - loss: 1.2693 - accuracy: 0.7342 - val_loss: 1.2683 - val_accuracy: 0.7410\n",
            "Epoch 5/17\n",
            "16/16 [==============================] - 0s 24ms/step - loss: 1.1300 - accuracy: 0.7716 - val_loss: 1.1927 - val_accuracy: 0.7650\n",
            "Epoch 6/17\n",
            "16/16 [==============================] - 0s 22ms/step - loss: 1.0145 - accuracy: 0.7954 - val_loss: 1.1445 - val_accuracy: 0.7750\n",
            "Epoch 7/17\n",
            "16/16 [==============================] - 0s 21ms/step - loss: 0.9244 - accuracy: 0.8192 - val_loss: 1.0982 - val_accuracy: 0.7920\n",
            "Epoch 8/17\n",
            "16/16 [==============================] - 0s 22ms/step - loss: 0.8501 - accuracy: 0.8404 - val_loss: 1.0721 - val_accuracy: 0.7990\n",
            "Epoch 9/17\n",
            "16/16 [==============================] - 0s 22ms/step - loss: 0.7692 - accuracy: 0.8586 - val_loss: 1.0371 - val_accuracy: 0.8020\n",
            "Epoch 10/17\n",
            "16/16 [==============================] - 0s 26ms/step - loss: 0.7061 - accuracy: 0.8696 - val_loss: 1.0358 - val_accuracy: 0.8000\n",
            "Epoch 11/17\n",
            "16/16 [==============================] - 0s 18ms/step - loss: 0.6540 - accuracy: 0.8842 - val_loss: 1.0093 - val_accuracy: 0.8190\n",
            "Epoch 12/17\n",
            "16/16 [==============================] - 0s 17ms/step - loss: 0.6090 - accuracy: 0.8926 - val_loss: 1.0076 - val_accuracy: 0.8100\n",
            "Epoch 13/17\n",
            "16/16 [==============================] - 0s 18ms/step - loss: 0.5674 - accuracy: 0.9074 - val_loss: 0.9938 - val_accuracy: 0.8170\n",
            "Epoch 14/17\n",
            "16/16 [==============================] - 0s 18ms/step - loss: 0.5372 - accuracy: 0.9119 - val_loss: 0.9828 - val_accuracy: 0.8240\n",
            "Epoch 15/17\n",
            "16/16 [==============================] - 0s 18ms/step - loss: 0.5058 - accuracy: 0.9199 - val_loss: 0.9922 - val_accuracy: 0.8280\n",
            "Epoch 16/17\n",
            "16/16 [==============================] - 0s 21ms/step - loss: 0.4767 - accuracy: 0.9278 - val_loss: 0.9858 - val_accuracy: 0.8220\n",
            "Epoch 17/17\n",
            "16/16 [==============================] - 0s 24ms/step - loss: 0.4577 - accuracy: 0.9328 - val_loss: 1.0001 - val_accuracy: 0.8220\n"
          ]
        }
      ]
    },
    {
      "cell_type": "code",
      "source": [
        "history2_dict = history2.history\n",
        "loss_values = history2_dict[\"loss\"]\n",
        "val_loss_values = history2_dict[\"val_loss\"]\n",
        "epoch = range(1,len(loss_values)+1)\n",
        "accuracy = history2_dict[\"accuracy\"]\n",
        "val_accuracy = history2_dict[\"val_accuracy\"]\n",
        "\n",
        "fig = plt.figure(figsize=(18,10))\n",
        "ax = fig.add_subplot(2,2,1)\n",
        "plt.plot(epoch, loss_values, \"o\", label=\"train\")\n",
        "plt.plot(epoch, val_loss_values, \"--\", label=\"validation\")\n",
        "plt.title(\"Loss training vs loss validation\")\n",
        "\n",
        "ax = fig.add_subplot(2,2,2)\n",
        "epoch = range(1,len(loss_values)+1)\n",
        "plt.plot(epoch, accuracy, \"o\", label=\"accuracy\")\n",
        "plt.plot(epoch, val_accuracy, \"--\", label=\"val_accuracy\")\n",
        "plt.title(\"Loss training vs loss validation\")\n",
        "\n",
        "plt.legend()\n",
        "plt.tight_layout()"
      ],
      "metadata": {
        "colab": {
          "base_uri": "https://localhost:8080/",
          "height": 295
        },
        "id": "Tu0XoqKqF0hl",
        "outputId": "78335071-2a8b-401d-f040-ee18d9fd2364"
      },
      "execution_count": 62,
      "outputs": [
        {
          "output_type": "display_data",
          "data": {
            "text/plain": [
              "<Figure size 1296x720 with 2 Axes>"
            ],
            "image/png": "[encoded data removed]"
          },
          "metadata": {
            "needs_background": "light"
          }
        }
      ]
    },
    {
      "cell_type": "code",
      "source": [
        "model2.evaluate(x_test,y_test)"
      ],
      "metadata": {
        "colab": {
          "base_uri": "https://localhost:8080/"
        },
        "id": "Vuf557ytIA70",
        "outputId": "380f9db2-5ae2-4f06-d0c7-5fb935196c79"
      },
      "execution_count": 65,
      "outputs": [
        {
          "output_type": "stream",
          "name": "stdout",
          "text": [
            "71/71 [==============================] - 0s 3ms/step - loss: 1.1127 - accuracy: 0.7961\n"
          ]
        },
        {
          "output_type": "execute_result",
          "data": {
            "text/plain": [
              "[1.1127276420593262, 0.7960819005966187]"
            ]
          },
          "metadata": {},
          "execution_count": 65
        }
      ]
    }
  ]
}