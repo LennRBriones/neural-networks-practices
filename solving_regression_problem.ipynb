{
  "nbformat": 4,
  "nbformat_minor": 0,
  "metadata": {
    "colab": {
      "provenance": [],
      "authorship_tag": "ABX9TyPwCKw9H2Ya20kisv2nrNZN",
      "include_colab_link": true
    },
    "kernelspec": {
      "name": "python3",
      "display_name": "Python 3"
    },
    "language_info": {
      "name": "python"
    },
    "accelerator": "GPU",
    "gpuClass": "standard"
  },
  "cells": [
    {
      "cell_type": "markdown",
      "metadata": {
        "id": "view-in-github",
        "colab_type": "text"
      },
      "source": [
        "<a href=\"https://colab.research.google.com/github/LennRBriones/neural-networks-practices/blob/main/solving_regression_problem.ipynb\" target=\"_parent\"><img src=\"https://colab.research.google.com/assets/colab-badge.svg\" alt=\"Open In Colab\"/></a>"
      ]
    },
    {
      "cell_type": "markdown",
      "source": [
        "## Prediction house prices"
      ],
      "metadata": {
        "id": "4T9TfRYbJ01l"
      }
    },
    {
      "cell_type": "code",
      "execution_count": 2,
      "metadata": {
        "id": "KQdnMEeNJhB7"
      },
      "outputs": [],
      "source": [
        "import pandas as pd\n",
        "import numpy as pd\n",
        "from keras.datasets import boston_housing\n",
        "from keras import layers, models, optimizers"
      ]
    },
    {
      "cell_type": "code",
      "source": [
        "(train_data, train_labels), (test_data, test_labels) = boston_housing.load_data()"
      ],
      "metadata": {
        "colab": {
          "base_uri": "https://localhost:8080/"
        },
        "id": "PNXKyNKMKREw",
        "outputId": "dffb3e01-c187-433b-be6a-313fec0e09fd"
      },
      "execution_count": 3,
      "outputs": [
        {
          "output_type": "stream",
          "name": "stdout",
          "text": [
            "Downloading data from https://storage.googleapis.com/tensorflow/tf-keras-datasets/boston_housing.npz\n",
            "57026/57026 [==============================] - 0s 0us/step\n"
          ]
        }
      ]
    },
    {
      "cell_type": "code",
      "source": [
        "train_data.shape"
      ],
      "metadata": {
        "colab": {
          "base_uri": "https://localhost:8080/"
        },
        "id": "Q6Reoz3sKf8K",
        "outputId": "67645299-0873-4d45-e2ad-63892f18b7aa"
      },
      "execution_count": 4,
      "outputs": [
        {
          "output_type": "execute_result",
          "data": {
            "text/plain": [
              "(404, 13)"
            ]
          },
          "metadata": {},
          "execution_count": 4
        }
      ]
    },
    {
      "cell_type": "code",
      "source": [
        "train_labels.shape"
      ],
      "metadata": {
        "colab": {
          "base_uri": "https://localhost:8080/"
        },
        "id": "vVIJskcPKoJa",
        "outputId": "9d73489f-d5e7-4149-a984-9ee87b4cc4be"
      },
      "execution_count": 5,
      "outputs": [
        {
          "output_type": "execute_result",
          "data": {
            "text/plain": [
              "(404,)"
            ]
          },
          "metadata": {},
          "execution_count": 5
        }
      ]
    },
    {
      "cell_type": "code",
      "source": [
        "train_labels[0]\n",
        "#Here show us that the first house of the data cost 15,000 dollars"
      ],
      "metadata": {
        "colab": {
          "base_uri": "https://localhost:8080/"
        },
        "id": "OUiUqscNKpxs",
        "outputId": "4c385e81-075d-47dc-c633-3b4505950043"
      },
      "execution_count": 6,
      "outputs": [
        {
          "output_type": "execute_result",
          "data": {
            "text/plain": [
              "15.2"
            ]
          },
          "metadata": {},
          "execution_count": 6
        }
      ]
    },
    {
      "cell_type": "code",
      "source": [
        "train_data[0]"
      ],
      "metadata": {
        "id": "QDhEnjSSKugd",
        "colab": {
          "base_uri": "https://localhost:8080/"
        },
        "outputId": "93740513-a954-4f56-bad1-96fe13991fce"
      },
      "execution_count": 7,
      "outputs": [
        {
          "output_type": "execute_result",
          "data": {
            "text/plain": [
              "array([  1.23247,   0.     ,   8.14   ,   0.     ,   0.538  ,   6.142  ,\n",
              "        91.7    ,   3.9769 ,   4.     , 307.     ,  21.     , 396.9    ,\n",
              "        18.72   ])"
            ]
          },
          "metadata": {},
          "execution_count": 7
        }
      ]
    },
    {
      "cell_type": "markdown",
      "source": [
        "Here is neccesary a normalization, because the large diference between the values"
      ],
      "metadata": {
        "id": "gS82LjBdDTzz"
      }
    },
    {
      "cell_type": "markdown",
      "source": [
        "## Normalization"
      ],
      "metadata": {
        "id": "PrSi2-FhDjue"
      }
    },
    {
      "cell_type": "code",
      "source": [
        "mean = train_data.mean(axis=0)\n",
        "train_data = train_data - mean #media \n",
        "std = train_data.std(axis=0)\n",
        "train_data = train_data / std #standar\n",
        "## Here we only use and modificate the train data, the test data isnt yet\n",
        "\n",
        "test_data = test_data - mean\n",
        "test_data = test_data / std"
      ],
      "metadata": {
        "id": "fzVHoGNoCASn"
      },
      "execution_count": 8,
      "outputs": []
    },
    {
      "cell_type": "code",
      "source": [
        "def build_model_regression(lr_var, input_data):\n",
        "    model = models.Sequential()\n",
        "    model.add(layers.Dense(64, activation=\"relu\", input_shape=(input_data))) #13 is te variables that the houses have\n",
        "    model.add(layers.Dense(64, activation=\"relu\"))\n",
        "    model.add(layers.Dense(1))\n",
        "    model.compile(optimizers= optimizers.RMSprop(lr=lr_var), loss=\"mse\", metrics = [\"mae\"])\n",
        "    return model"
      ],
      "metadata": {
        "id": "xgLvcd3rF8lq"
      },
      "execution_count": 10,
      "outputs": []
    },
    {
      "cell_type": "code",
      "source": [
        "k = 4 #validation sets\n",
        "num_val_samples = len(train_data) // k\n",
        "num_epoch = 80\n",
        "all_history = []"
      ],
      "metadata": {
        "id": "0HZVo2FVIPIk"
      },
      "execution_count": 11,
      "outputs": []
    },
    {
      "cell_type": "code",
      "source": [
        "valor = 2\n",
        "(valor) * num_val_samples"
      ],
      "metadata": {
        "id": "HCrk70ZLJXhp"
      },
      "execution_count": null,
      "outputs": []
    }
  ]
}