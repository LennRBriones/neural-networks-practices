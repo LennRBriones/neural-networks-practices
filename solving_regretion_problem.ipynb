{
  "nbformat": 4,
  "nbformat_minor": 0,
  "metadata": {
    "colab": {
      "provenance": [],
      "authorship_tag": "ABX9TyNMfJvcNN89QpeizZ0/NQnE",
      "include_colab_link": true
    },
    "kernelspec": {
      "name": "python3",
      "display_name": "Python 3"
    },
    "language_info": {
      "name": "python"
    },
    "accelerator": "GPU",
    "gpuClass": "standard"
  },
  "cells": [
    {
      "cell_type": "markdown",
      "metadata": {
        "id": "view-in-github",
        "colab_type": "text"
      },
      "source": [
        "<a href=\"https://colab.research.google.com/github/LennRBriones/neural-networks-practices/blob/main/solving_regretion_problem.ipynb\" target=\"_parent\"><img src=\"https://colab.research.google.com/assets/colab-badge.svg\" alt=\"Open In Colab\"/></a>"
      ]
    },
    {
      "cell_type": "markdown",
      "source": [
        "## Prediction house prices"
      ],
      "metadata": {
        "id": "4T9TfRYbJ01l"
      }
    },
    {
      "cell_type": "code",
      "execution_count": 1,
      "metadata": {
        "id": "KQdnMEeNJhB7"
      },
      "outputs": [],
      "source": [
        "import pandas as pd\n",
        "import numpy as np\n",
        "from keras.datasets import boston_housing\n",
        "from keras import layers, models, optimizers\n"
      ]
    },
    {
      "cell_type": "code",
      "source": [
        "(train_data , train_targets) ,(test_data,test_targets) = boston_housing.load_data()"
      ],
      "metadata": {
        "id": "PNXKyNKMKREw",
        "colab": {
          "base_uri": "https://localhost:8080/"
        },
        "outputId": "bf1663a5-7aec-45eb-89dd-d662f3836b20"
      },
      "execution_count": 2,
      "outputs": [
        {
          "output_type": "stream",
          "name": "stdout",
          "text": [
            "Downloading data from https://storage.googleapis.com/tensorflow/tf-keras-datasets/boston_housing.npz\n",
            "57026/57026 [==============================] - 0s 0us/step\n"
          ]
        }
      ]
    },
    {
      "cell_type": "code",
      "source": [
        "train_data.shape"
      ],
      "metadata": {
        "colab": {
          "base_uri": "https://localhost:8080/"
        },
        "id": "Q6Reoz3sKf8K",
        "outputId": "1b4a5e2e-0135-4a13-bfdb-28dce0e6f7f2"
      },
      "execution_count": 3,
      "outputs": [
        {
          "output_type": "execute_result",
          "data": {
            "text/plain": [
              "(404, 13)"
            ]
          },
          "metadata": {},
          "execution_count": 3
        }
      ]
    },
    {
      "cell_type": "code",
      "source": [
        "train_targets.shape"
      ],
      "metadata": {
        "colab": {
          "base_uri": "https://localhost:8080/"
        },
        "id": "vVIJskcPKoJa",
        "outputId": "33249708-52a0-4ac7-fffb-b37b39c44194"
      },
      "execution_count": 4,
      "outputs": [
        {
          "output_type": "execute_result",
          "data": {
            "text/plain": [
              "(404,)"
            ]
          },
          "metadata": {},
          "execution_count": 4
        }
      ]
    },
    {
      "cell_type": "code",
      "source": [
        "train_targets[0]\n",
        "#Here show us that the first house of the data cost 15,000 dollars"
      ],
      "metadata": {
        "colab": {
          "base_uri": "https://localhost:8080/"
        },
        "id": "OUiUqscNKpxs",
        "outputId": "050c6b16-d4fc-4b16-a407-1838a2934c63"
      },
      "execution_count": 5,
      "outputs": [
        {
          "output_type": "execute_result",
          "data": {
            "text/plain": [
              "15.2"
            ]
          },
          "metadata": {},
          "execution_count": 5
        }
      ]
    },
    {
      "cell_type": "code",
      "source": [
        "train_data[0]"
      ],
      "metadata": {
        "id": "QDhEnjSSKugd",
        "colab": {
          "base_uri": "https://localhost:8080/"
        },
        "outputId": "a00c2046-d9f1-4943-fa18-4cb16621d203"
      },
      "execution_count": 6,
      "outputs": [
        {
          "output_type": "execute_result",
          "data": {
            "text/plain": [
              "array([  1.23247,   0.     ,   8.14   ,   0.     ,   0.538  ,   6.142  ,\n",
              "        91.7    ,   3.9769 ,   4.     , 307.     ,  21.     , 396.9    ,\n",
              "        18.72   ])"
            ]
          },
          "metadata": {},
          "execution_count": 6
        }
      ]
    },
    {
      "cell_type": "markdown",
      "source": [
        "Here is neccesary a normalization, because the large diference between the values"
      ],
      "metadata": {
        "id": "gS82LjBdDTzz"
      }
    },
    {
      "cell_type": "markdown",
      "source": [
        "## Normalization"
      ],
      "metadata": {
        "id": "PrSi2-FhDjue"
      }
    },
    {
      "cell_type": "code",
      "source": [
        "mean = train_data.mean(axis=0)\n",
        "train_data = train_data - mean #media \n",
        "std = train_data.std(axis=0)\n",
        "train_data = train_data / std #standar\n",
        "## Here we only use and modificate the train data, the test data isnt yet\n",
        "\n",
        "test_data = test_data - mean\n",
        "test_data = test_data / std"
      ],
      "metadata": {
        "id": "fzVHoGNoCASn"
      },
      "execution_count": 7,
      "outputs": []
    },
    {
      "cell_type": "code",
      "source": [
        "def build_model_regression(input_data):\n",
        "    model = models.Sequential()\n",
        "    model.add(layers.Dense(64, activation=\"relu\", input_shape=(input_data,))) #13 is te variables that the houses have\n",
        "    model.add(layers.Dense(64, activation=\"relu\"))\n",
        "    model.add(layers.Dense(1))                            #this time we don´t need clasification son we use cuadratic (mse)\n",
        "    model.compile(optimizer= \"rmsprop\", loss=\"mse\", metrics =[\"mae\"])\n",
        "    return model                                           #Is lineal regresion so we need this data \n",
        "    "
      ],
      "metadata": {
        "id": "xgLvcd3rF8lq"
      },
      "execution_count": 8,
      "outputs": []
    },
    {
      "cell_type": "markdown",
      "source": [
        "## K-Fold validation\n"
      ],
      "metadata": {
        "id": "6hbpc-OiwuXR"
      }
    },
    {
      "cell_type": "code",
      "source": [
        " \n",
        "#iteration the dataset with the training\n",
        "\n",
        "k = 4 #iterations\n",
        "num_val_samples = len(train_data) // k\n",
        "num_epoch = 65 ## original was 80\n",
        "#we used 500 to estimate\n",
        "all_history = [] #saving all historys"
      ],
      "metadata": {
        "id": "0HZVo2FVIPIk"
      },
      "execution_count": 9,
      "outputs": []
    },
    {
      "cell_type": "code",
      "source": [
        "0*num_val_samples"
      ],
      "metadata": {
        "colab": {
          "base_uri": "https://localhost:8080/"
        },
        "id": "HCrk70ZLJXhp",
        "outputId": "a516e225-849a-4064-9594-80c7a374f824"
      },
      "execution_count": 10,
      "outputs": [
        {
          "output_type": "execute_result",
          "data": {
            "text/plain": [
              "0"
            ]
          },
          "metadata": {},
          "execution_count": 10
        }
      ]
    },
    {
      "cell_type": "code",
      "source": [
        "(0+1) * num_val_samples"
      ],
      "metadata": {
        "colab": {
          "base_uri": "https://localhost:8080/"
        },
        "id": "w7lByhz1w8ee",
        "outputId": "44cb2e17-07a5-4d42-9aa5-101aa4be2b08"
      },
      "execution_count": 11,
      "outputs": [
        {
          "output_type": "execute_result",
          "data": {
            "text/plain": [
              "101"
            ]
          },
          "metadata": {},
          "execution_count": 11
        }
      ]
    },
    {
      "cell_type": "code",
      "source": [
        "for i in range(k):\n",
        "    print(\"Fold \" , i)\n",
        "    val_data = train_data[i*num_val_samples: (i+1) * num_val_samples]\n",
        "    val_targets = train_targets[i*num_val_samples: (i+1) * num_val_samples]\n",
        "    \n",
        "    partial_train_data = np.concatenate(\n",
        "    [train_data[:i * num_val_samples],\n",
        "     train_data[(i+1) * num_val_samples:]],\n",
        "     axis= 0   \n",
        "    )\n",
        "    \n",
        "    partial_train_targets = np.concatenate(\n",
        "    [train_targets[:i * num_val_samples],\n",
        "     train_targets[(i+1) * num_val_samples:]],\n",
        "     axis= 0   \n",
        "    )    \n",
        "    model = build_model_regression(13)\n",
        "    history = model.fit(partial_train_data, partial_train_targets, epochs=num_epoch, batch_size =16, \n",
        "                        validation_data = (val_data, val_targets),\n",
        "                        verbose=0)\n",
        "    all_history.append(history.history['val_mae'])"
      ],
      "metadata": {
        "colab": {
          "base_uri": "https://localhost:8080/"
        },
        "id": "Gzuwzj34NqM7",
        "outputId": "5bae5bb1-55d2-46f8-fb1f-e7904a76ac16"
      },
      "execution_count": 12,
      "outputs": [
        {
          "output_type": "stream",
          "name": "stdout",
          "text": [
            "Fold  0\n",
            "Fold  1\n",
            "Fold  2\n",
            "Fold  3\n"
          ]
        }
      ]
    },
    {
      "cell_type": "code",
      "source": [
        "all_history"
      ],
      "metadata": {
        "colab": {
          "base_uri": "https://localhost:8080/"
        },
        "id": "6TCh_ogwx6ci",
        "outputId": "1e9e4e6f-8fc6-4d51-ced7-fd44ca3dc5ce"
      },
      "execution_count": 13,
      "outputs": [
        {
          "output_type": "execute_result",
          "data": {
            "text/plain": [
              "[[20.001230239868164,\n",
              "  17.083316802978516,\n",
              "  13.077943801879883,\n",
              "  8.479751586914062,\n",
              "  5.251523494720459,\n",
              "  3.8829729557037354,\n",
              "  3.5159146785736084,\n",
              "  3.3652942180633545,\n",
              "  3.092085361480713,\n",
              "  3.0027735233306885,\n",
              "  2.8601315021514893,\n",
              "  2.8286848068237305,\n",
              "  2.7463152408599854,\n",
              "  2.6928653717041016,\n",
              "  2.510450839996338,\n",
              "  2.495121479034424,\n",
              "  2.4635531902313232,\n",
              "  2.4421987533569336,\n",
              "  2.5347466468811035,\n",
              "  2.413397789001465,\n",
              "  2.413428783416748,\n",
              "  2.319744110107422,\n",
              "  2.2331619262695312,\n",
              "  2.2554430961608887,\n",
              "  2.350522994995117,\n",
              "  2.180715560913086,\n",
              "  2.1404478549957275,\n",
              "  2.129497766494751,\n",
              "  2.1764156818389893,\n",
              "  2.146543025970459,\n",
              "  2.2083864212036133,\n",
              "  2.1418776512145996,\n",
              "  2.1510543823242188,\n",
              "  2.078538417816162,\n",
              "  2.2383952140808105,\n",
              "  2.084569215774536,\n",
              "  2.075010299682617,\n",
              "  2.1290314197540283,\n",
              "  2.1114375591278076,\n",
              "  2.039141893386841,\n",
              "  2.1015281677246094,\n",
              "  2.1318211555480957,\n",
              "  2.0960824489593506,\n",
              "  2.201765537261963,\n",
              "  2.0543854236602783,\n",
              "  1.992682933807373,\n",
              "  1.996025562286377,\n",
              "  2.009739875793457,\n",
              "  2.0545494556427,\n",
              "  1.9920694828033447,\n",
              "  2.0833935737609863,\n",
              "  2.0128471851348877,\n",
              "  2.0933430194854736,\n",
              "  1.999011516571045,\n",
              "  1.8994266986846924,\n",
              "  2.1756842136383057,\n",
              "  2.0030899047851562,\n",
              "  2.0045230388641357,\n",
              "  2.0592269897460938,\n",
              "  2.1706247329711914,\n",
              "  2.0025174617767334,\n",
              "  1.960254430770874,\n",
              "  2.0390098094940186,\n",
              "  1.8988274335861206,\n",
              "  2.005403518676758],\n",
              " [19.356704711914062,\n",
              "  15.993148803710938,\n",
              "  12.080719947814941,\n",
              "  8.339093208312988,\n",
              "  6.010290622711182,\n",
              "  5.07273530960083,\n",
              "  4.475327491760254,\n",
              "  4.0727057456970215,\n",
              "  3.907047986984253,\n",
              "  3.5671727657318115,\n",
              "  3.4498300552368164,\n",
              "  3.4140725135803223,\n",
              "  3.2916500568389893,\n",
              "  3.1934850215911865,\n",
              "  3.0399439334869385,\n",
              "  2.9523370265960693,\n",
              "  2.9417901039123535,\n",
              "  2.88405442237854,\n",
              "  3.03006911277771,\n",
              "  2.8453259468078613,\n",
              "  2.8615989685058594,\n",
              "  2.8461055755615234,\n",
              "  2.8027002811431885,\n",
              "  2.747314691543579,\n",
              "  2.7094333171844482,\n",
              "  2.718487024307251,\n",
              "  2.7440402507781982,\n",
              "  2.806485652923584,\n",
              "  2.6682207584381104,\n",
              "  2.7141194343566895,\n",
              "  2.714060068130493,\n",
              "  2.635460615158081,\n",
              "  2.601001501083374,\n",
              "  2.5972752571105957,\n",
              "  2.7121989727020264,\n",
              "  2.6612298488616943,\n",
              "  2.6268081665039062,\n",
              "  2.6266584396362305,\n",
              "  2.707634449005127,\n",
              "  2.700922966003418,\n",
              "  2.589799404144287,\n",
              "  2.7207424640655518,\n",
              "  2.554992437362671,\n",
              "  2.8249378204345703,\n",
              "  2.762230396270752,\n",
              "  2.661806583404541,\n",
              "  2.8222806453704834,\n",
              "  2.587062358856201,\n",
              "  2.5387513637542725,\n",
              "  2.6248204708099365,\n",
              "  2.6833481788635254,\n",
              "  2.6209075450897217,\n",
              "  2.6240146160125732,\n",
              "  2.6781411170959473,\n",
              "  2.535550355911255,\n",
              "  2.5969953536987305,\n",
              "  2.6206610202789307,\n",
              "  2.6471927165985107,\n",
              "  2.599699020385742,\n",
              "  2.6104490756988525,\n",
              "  2.554760694503784,\n",
              "  2.543832540512085,\n",
              "  2.8035285472869873,\n",
              "  2.571282386779785,\n",
              "  2.6417529582977295],\n",
              " [18.241914749145508,\n",
              "  15.015140533447266,\n",
              "  11.0291109085083,\n",
              "  7.9985551834106445,\n",
              "  6.419295310974121,\n",
              "  5.251532554626465,\n",
              "  4.564785957336426,\n",
              "  4.111180305480957,\n",
              "  3.8313419818878174,\n",
              "  3.6293745040893555,\n",
              "  3.5370216369628906,\n",
              "  3.320955753326416,\n",
              "  3.2862162590026855,\n",
              "  3.0655713081359863,\n",
              "  2.967661142349243,\n",
              "  2.8703508377075195,\n",
              "  2.8438220024108887,\n",
              "  2.7254738807678223,\n",
              "  2.7518770694732666,\n",
              "  2.7329204082489014,\n",
              "  2.6869924068450928,\n",
              "  2.533673048019409,\n",
              "  2.607093334197998,\n",
              "  2.5716774463653564,\n",
              "  2.5067012310028076,\n",
              "  2.578611373901367,\n",
              "  2.535208225250244,\n",
              "  2.5298819541931152,\n",
              "  2.493833303451538,\n",
              "  2.519446849822998,\n",
              "  2.459644317626953,\n",
              "  2.5520339012145996,\n",
              "  2.49076771736145,\n",
              "  2.4712884426116943,\n",
              "  2.474351644515991,\n",
              "  2.5456581115722656,\n",
              "  2.503952980041504,\n",
              "  2.51446533203125,\n",
              "  2.492293357849121,\n",
              "  2.4663286209106445,\n",
              "  2.455444574356079,\n",
              "  2.472905158996582,\n",
              "  2.497184991836548,\n",
              "  2.527757167816162,\n",
              "  2.587778329849243,\n",
              "  2.4766156673431396,\n",
              "  2.4630534648895264,\n",
              "  2.5524415969848633,\n",
              "  2.5126843452453613,\n",
              "  2.537973165512085,\n",
              "  2.455687999725342,\n",
              "  2.4127867221832275,\n",
              "  2.5625813007354736,\n",
              "  2.460270404815674,\n",
              "  2.455291986465454,\n",
              "  2.4207897186279297,\n",
              "  2.477173089981079,\n",
              "  2.4634506702423096,\n",
              "  2.501446485519409,\n",
              "  2.4840080738067627,\n",
              "  2.5071232318878174,\n",
              "  2.4439706802368164,\n",
              "  2.4821033477783203,\n",
              "  2.474855422973633,\n",
              "  2.4745233058929443],\n",
              " [20.523372650146484,\n",
              "  16.866844177246094,\n",
              "  12.69284439086914,\n",
              "  8.754804611206055,\n",
              "  7.081295013427734,\n",
              "  5.935060501098633,\n",
              "  5.2340240478515625,\n",
              "  4.724879264831543,\n",
              "  4.448298454284668,\n",
              "  4.160483360290527,\n",
              "  3.932427167892456,\n",
              "  3.7445223331451416,\n",
              "  3.5687685012817383,\n",
              "  3.4606223106384277,\n",
              "  3.3246490955352783,\n",
              "  3.2578930854797363,\n",
              "  3.1717498302459717,\n",
              "  3.0500664710998535,\n",
              "  3.1134121417999268,\n",
              "  2.97253680229187,\n",
              "  2.9091832637786865,\n",
              "  2.889975070953369,\n",
              "  2.8765032291412354,\n",
              "  2.9000582695007324,\n",
              "  2.893568992614746,\n",
              "  2.783709764480591,\n",
              "  2.800832986831665,\n",
              "  2.847235918045044,\n",
              "  2.8088276386260986,\n",
              "  2.749819278717041,\n",
              "  2.6293320655822754,\n",
              "  2.6982297897338867,\n",
              "  2.6595242023468018,\n",
              "  2.6267383098602295,\n",
              "  2.683964490890503,\n",
              "  2.6225147247314453,\n",
              "  2.731842279434204,\n",
              "  2.6977293491363525,\n",
              "  2.5918757915496826,\n",
              "  2.7205145359039307,\n",
              "  2.66333270072937,\n",
              "  2.6754164695739746,\n",
              "  2.5947601795196533,\n",
              "  2.551569938659668,\n",
              "  2.6628007888793945,\n",
              "  2.552422046661377,\n",
              "  2.5152924060821533,\n",
              "  2.6037838459014893,\n",
              "  2.575953722000122,\n",
              "  2.5377206802368164,\n",
              "  2.4866490364074707,\n",
              "  2.508762836456299,\n",
              "  2.572054386138916,\n",
              "  2.4913694858551025,\n",
              "  2.536656379699707,\n",
              "  2.5766048431396484,\n",
              "  2.634615421295166,\n",
              "  2.54374098777771,\n",
              "  2.5003507137298584,\n",
              "  2.5779225826263428,\n",
              "  2.4775390625,\n",
              "  2.521819829940796,\n",
              "  2.5986199378967285,\n",
              "  2.4964535236358643,\n",
              "  2.4569144248962402]]"
            ]
          },
          "metadata": {},
          "execution_count": 13
        }
      ]
    },
    {
      "cell_type": "code",
      "source": [
        "len(all_history[0])"
      ],
      "metadata": {
        "colab": {
          "base_uri": "https://localhost:8080/"
        },
        "id": "p97M3sPIUHNi",
        "outputId": "8ec28e19-d564-4674-c724-f20c69f63313"
      },
      "execution_count": 14,
      "outputs": [
        {
          "output_type": "execute_result",
          "data": {
            "text/plain": [
              "65"
            ]
          },
          "metadata": {},
          "execution_count": 14
        }
      ]
    },
    {
      "cell_type": "markdown",
      "source": [
        "## Results"
      ],
      "metadata": {
        "id": "cLUo0EqZyQ32"
      }
    },
    {
      "cell_type": "code",
      "source": [
        "all_mae_avg = pd.DataFrame(all_history).mean(axis=0)"
      ],
      "metadata": {
        "id": "j432PYalx3C0"
      },
      "execution_count": 15,
      "outputs": []
    },
    {
      "cell_type": "code",
      "source": [
        "all_mae_avg"
      ],
      "metadata": {
        "colab": {
          "base_uri": "https://localhost:8080/"
        },
        "id": "SXlW_jLTyd2Q",
        "outputId": "49f5362b-5fff-48fc-84cd-11be05d7196b"
      },
      "execution_count": 16,
      "outputs": [
        {
          "output_type": "execute_result",
          "data": {
            "text/plain": [
              "0     19.530806\n",
              "1     16.239613\n",
              "2     12.220155\n",
              "3      8.393051\n",
              "4      6.190601\n",
              "        ...    \n",
              "60     2.385485\n",
              "61     2.367469\n",
              "62     2.480815\n",
              "63     2.360355\n",
              "64     2.394649\n",
              "Length: 65, dtype: float64"
            ]
          },
          "metadata": {},
          "execution_count": 16
        }
      ]
    },
    {
      "cell_type": "code",
      "source": [
        "import matplotlib.pyplot as plt\n",
        "\n",
        "fig = plt.figure(figsize=(10,10))\n",
        "plt.plot(range(1, len(all_mae_avg[15:])+1), all_mae_avg[15:])\n",
        "plt.show()"
      ],
      "metadata": {
        "colab": {
          "base_uri": "https://localhost:8080/",
          "height": 592
        },
        "id": "myHcsIASygIm",
        "outputId": "65f53647-7a41-4b53-92ac-63181764059c"
      },
      "execution_count": 17,
      "outputs": [
        {
          "output_type": "display_data",
          "data": {
            "text/plain": [
              "<Figure size 720x720 with 1 Axes>"
            ],
            "image/png": "[encoded data removed]"
          },
          "metadata": {
            "needs_background": "light"
          }
        }
      ]
    },
    {
      "cell_type": "code",
      "source": [
        "model.evaluate(test_data, test_targets)\n",
        "#mean absolut error"
      ],
      "metadata": {
        "colab": {
          "base_uri": "https://localhost:8080/"
        },
        "id": "Ou1T7sbZ0jZW",
        "outputId": "fe79d9b3-c0ad-4b61-c0f2-61a41bf4da3a"
      },
      "execution_count": 18,
      "outputs": [
        {
          "output_type": "stream",
          "name": "stdout",
          "text": [
            "4/4 [==============================] - 0s 4ms/step - loss: 22.3406 - mae: 2.8557\n"
          ]
        },
        {
          "output_type": "execute_result",
          "data": {
            "text/plain": [
              "[22.34060287475586, 2.855675220489502]"
            ]
          },
          "metadata": {},
          "execution_count": 18
        }
      ]
    }
  ]
}