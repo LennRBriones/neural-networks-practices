{
  "nbformat": 4,
  "nbformat_minor": 0,
  "metadata": {
    "colab": {
      "provenance": [],
      "authorship_tag": "ABX9TyMkYINTnOcZ4RA+qB29JeAU",
      "include_colab_link": true
    },
    "kernelspec": {
      "name": "python3",
      "display_name": "Python 3"
    },
    "language_info": {
      "name": "python"
    },
    "accelerator": "GPU",
    "gpuClass": "standard"
  },
  "cells": [
    {
      "cell_type": "markdown",
      "metadata": {
        "id": "view-in-github",
        "colab_type": "text"
      },
      "source": [
        "<a href=\"https://colab.research.google.com/github/LennRBriones/neural-networks-practices/blob/main/solving_regretion_problem.ipynb\" target=\"_parent\"><img src=\"https://colab.research.google.com/assets/colab-badge.svg\" alt=\"Open In Colab\"/></a>"
      ]
    },
    {
      "cell_type": "markdown",
      "source": [
        "## Prediction house prices"
      ],
      "metadata": {
        "id": "4T9TfRYbJ01l"
      }
    },
    {
      "cell_type": "code",
      "execution_count": 251,
      "metadata": {
        "id": "KQdnMEeNJhB7"
      },
      "outputs": [],
      "source": [
        "import pandas as pd\n",
        "import numpy as np\n",
        "from keras.datasets import boston_housing\n",
        "from keras import layers, models, optimizers\n"
      ]
    },
    {
      "cell_type": "code",
      "source": [
        "(train_data , train_targets) ,(test_data,test_targets) = boston_housing.load_data()"
      ],
      "metadata": {
        "id": "PNXKyNKMKREw"
      },
      "execution_count": 252,
      "outputs": []
    },
    {
      "cell_type": "code",
      "source": [
        "train_data.shape"
      ],
      "metadata": {
        "colab": {
          "base_uri": "https://localhost:8080/"
        },
        "id": "Q6Reoz3sKf8K",
        "outputId": "9ba5d3a7-69b2-4bcf-f827-36bf0e9d179c"
      },
      "execution_count": 253,
      "outputs": [
        {
          "output_type": "execute_result",
          "data": {
            "text/plain": [
              "(404, 13)"
            ]
          },
          "metadata": {},
          "execution_count": 253
        }
      ]
    },
    {
      "cell_type": "code",
      "source": [
        "train_targets.shape"
      ],
      "metadata": {
        "colab": {
          "base_uri": "https://localhost:8080/"
        },
        "id": "vVIJskcPKoJa",
        "outputId": "4315c3ea-4bd0-427a-b981-049f6d43cf35"
      },
      "execution_count": 254,
      "outputs": [
        {
          "output_type": "execute_result",
          "data": {
            "text/plain": [
              "(404,)"
            ]
          },
          "metadata": {},
          "execution_count": 254
        }
      ]
    },
    {
      "cell_type": "code",
      "source": [
        "train_targets[0]\n",
        "#Here show us that the first house of the data cost 15,000 dollars"
      ],
      "metadata": {
        "colab": {
          "base_uri": "https://localhost:8080/"
        },
        "id": "OUiUqscNKpxs",
        "outputId": "46aa908c-2a75-4bae-80cd-a3a04f41f7c1"
      },
      "execution_count": 255,
      "outputs": [
        {
          "output_type": "execute_result",
          "data": {
            "text/plain": [
              "15.2"
            ]
          },
          "metadata": {},
          "execution_count": 255
        }
      ]
    },
    {
      "cell_type": "code",
      "source": [
        "train_data[0]"
      ],
      "metadata": {
        "id": "QDhEnjSSKugd",
        "colab": {
          "base_uri": "https://localhost:8080/"
        },
        "outputId": "9f55250c-9123-444c-e39e-032564d894b9"
      },
      "execution_count": 256,
      "outputs": [
        {
          "output_type": "execute_result",
          "data": {
            "text/plain": [
              "array([  1.23247,   0.     ,   8.14   ,   0.     ,   0.538  ,   6.142  ,\n",
              "        91.7    ,   3.9769 ,   4.     , 307.     ,  21.     , 396.9    ,\n",
              "        18.72   ])"
            ]
          },
          "metadata": {},
          "execution_count": 256
        }
      ]
    },
    {
      "cell_type": "markdown",
      "source": [
        "Here is neccesary a normalization, because the large diference between the values"
      ],
      "metadata": {
        "id": "gS82LjBdDTzz"
      }
    },
    {
      "cell_type": "markdown",
      "source": [
        "## Normalization"
      ],
      "metadata": {
        "id": "PrSi2-FhDjue"
      }
    },
    {
      "cell_type": "code",
      "source": [
        "mean = train_data.mean(axis=0)\n",
        "train_data = train_data - mean #media \n",
        "std = train_data.std(axis=0)\n",
        "train_data = train_data / std #standar\n",
        "## Here we only use and modificate the train data, the test data isnt yet\n",
        "\n",
        "test_data = test_data - mean\n",
        "test_data = test_data / std"
      ],
      "metadata": {
        "id": "fzVHoGNoCASn"
      },
      "execution_count": 257,
      "outputs": []
    },
    {
      "cell_type": "code",
      "source": [
        "def build_model_regression(input_data):\n",
        "    model = models.Sequential()\n",
        "    model.add(layers.Dense(64, activation=\"relu\", input_shape=(input_data,))) #13 is te variables that the houses have\n",
        "    model.add(layers.Dense(64, activation=\"relu\"))\n",
        "    model.add(layers.Dense(1))                            #this time we don´t need clasification son we use cuadratic (mse)\n",
        "    model.compile(optimizer= \"rmsprop\", loss=\"mse\", metrics =[\"mae\"])\n",
        "    return model                                           #Is lineal regresion so we need this data \n",
        "    "
      ],
      "metadata": {
        "id": "xgLvcd3rF8lq"
      },
      "execution_count": 258,
      "outputs": []
    },
    {
      "cell_type": "markdown",
      "source": [
        "## K-Fold validation\n"
      ],
      "metadata": {
        "id": "6hbpc-OiwuXR"
      }
    },
    {
      "cell_type": "code",
      "source": [
        " \n",
        "#iteration the dataset with the training\n",
        "\n",
        "k = 4 #iterations\n",
        "num_val_samples = len(train_data) // k\n",
        "num_epoch = 85 ## original was 80\n",
        "#we used 500 to estimate\n",
        "all_history = [] #saving all historys"
      ],
      "metadata": {
        "id": "0HZVo2FVIPIk"
      },
      "execution_count": 259,
      "outputs": []
    },
    {
      "cell_type": "code",
      "source": [
        "0*num_val_samples"
      ],
      "metadata": {
        "colab": {
          "base_uri": "https://localhost:8080/"
        },
        "id": "HCrk70ZLJXhp",
        "outputId": "9d11a78a-6ed6-4cbb-a808-d9d63a1879dd"
      },
      "execution_count": 260,
      "outputs": [
        {
          "output_type": "execute_result",
          "data": {
            "text/plain": [
              "0"
            ]
          },
          "metadata": {},
          "execution_count": 260
        }
      ]
    },
    {
      "cell_type": "code",
      "source": [
        "(0+1) * num_val_samples"
      ],
      "metadata": {
        "colab": {
          "base_uri": "https://localhost:8080/"
        },
        "id": "w7lByhz1w8ee",
        "outputId": "0ec4efc5-e932-4491-84a5-0b4c49760227"
      },
      "execution_count": 261,
      "outputs": [
        {
          "output_type": "execute_result",
          "data": {
            "text/plain": [
              "101"
            ]
          },
          "metadata": {},
          "execution_count": 261
        }
      ]
    },
    {
      "cell_type": "code",
      "source": [
        "for i in range(k):\n",
        "    print(\"Fold \" , i)\n",
        "    val_data = train_data[i*num_val_samples: (i+1) * num_val_samples]\n",
        "    val_targets = train_targets[i*num_val_samples: (i+1) * num_val_samples]\n",
        "    \n",
        "    partial_train_data = np.concatenate(\n",
        "    [train_data[:i * num_val_samples],\n",
        "     train_data[(i+1) * num_val_samples:]],\n",
        "     axis= 0   \n",
        "    )\n",
        "    \n",
        "    partial_train_targets = np.concatenate(\n",
        "    [train_targets[:i * num_val_samples],\n",
        "     train_targets[(i+1) * num_val_samples:]],\n",
        "     axis= 0   \n",
        "    )    \n",
        "    model = build_model_regression(13)\n",
        "    history = model.fit(partial_train_data, partial_train_targets, epochs=num_epoch, batch_size =16, \n",
        "                        validation_data = (val_data, val_targets),\n",
        "                        verbose=0)\n",
        "    all_history.append(history.history['val_mae'])"
      ],
      "metadata": {
        "colab": {
          "base_uri": "https://localhost:8080/"
        },
        "id": "Gzuwzj34NqM7",
        "outputId": "b1491dda-b051-4124-92bc-ab4e2f6c7c09"
      },
      "execution_count": 262,
      "outputs": [
        {
          "output_type": "stream",
          "name": "stdout",
          "text": [
            "Fold  0\n",
            "Fold  1\n",
            "Fold  2\n",
            "Fold  3\n"
          ]
        }
      ]
    },
    {
      "cell_type": "code",
      "source": [
        "all_history"
      ],
      "metadata": {
        "colab": {
          "base_uri": "https://localhost:8080/"
        },
        "id": "6TCh_ogwx6ci",
        "outputId": "c6c655ef-7806-431d-a647-5a53130baea6"
      },
      "execution_count": 263,
      "outputs": [
        {
          "output_type": "execute_result",
          "data": {
            "text/plain": [
              "[[18.205007553100586,\n",
              "  14.614141464233398,\n",
              "  10.272372245788574,\n",
              "  6.712702751159668,\n",
              "  5.102138519287109,\n",
              "  4.2191267013549805,\n",
              "  3.6620216369628906,\n",
              "  3.299421787261963,\n",
              "  3.1341335773468018,\n",
              "  2.9393739700317383,\n",
              "  2.9005210399627686,\n",
              "  2.8063652515411377,\n",
              "  2.6885907649993896,\n",
              "  2.5920825004577637,\n",
              "  2.642726421356201,\n",
              "  2.6276309490203857,\n",
              "  2.506068706512451,\n",
              "  2.4222052097320557,\n",
              "  2.4707791805267334,\n",
              "  2.4340732097625732,\n",
              "  2.4596710205078125,\n",
              "  2.3282880783081055,\n",
              "  2.312629461288452,\n",
              "  2.177553653717041,\n",
              "  2.1901440620422363,\n",
              "  2.1742987632751465,\n",
              "  2.2196712493896484,\n",
              "  2.1655967235565186,\n",
              "  2.22286057472229,\n",
              "  2.1909658908843994,\n",
              "  2.2370779514312744,\n",
              "  2.2302496433258057,\n",
              "  2.2343742847442627,\n",
              "  2.207742691040039,\n",
              "  2.2828500270843506,\n",
              "  2.220473289489746,\n",
              "  2.1604509353637695,\n",
              "  2.1449363231658936,\n",
              "  2.17254376411438,\n",
              "  2.124326705932617,\n",
              "  2.0754828453063965,\n",
              "  2.102574348449707,\n",
              "  2.0568323135375977,\n",
              "  2.030120611190796,\n",
              "  2.229294776916504,\n",
              "  2.205012321472168,\n",
              "  2.259687662124634,\n",
              "  2.118640899658203,\n",
              "  2.1130974292755127,\n",
              "  2.041923999786377,\n",
              "  1.999124526977539,\n",
              "  2.0456957817077637,\n",
              "  2.038057565689087,\n",
              "  2.1990067958831787,\n",
              "  2.0177509784698486,\n",
              "  2.0297465324401855,\n",
              "  1.9602179527282715,\n",
              "  1.9961063861846924,\n",
              "  2.0047049522399902,\n",
              "  2.0577940940856934,\n",
              "  2.009065866470337,\n",
              "  2.151876211166382,\n",
              "  2.053213119506836,\n",
              "  1.9739248752593994,\n",
              "  2.1495110988616943,\n",
              "  1.9575648307800293,\n",
              "  1.9545910358428955,\n",
              "  2.0182292461395264,\n",
              "  1.9359030723571777,\n",
              "  2.182802677154541,\n",
              "  2.0324065685272217,\n",
              "  2.067002773284912,\n",
              "  1.9531434774398804,\n",
              "  2.1114425659179688,\n",
              "  2.203932285308838,\n",
              "  1.9612025022506714,\n",
              "  2.1103076934814453,\n",
              "  2.0519697666168213,\n",
              "  2.038850784301758,\n",
              "  2.150071620941162,\n",
              "  1.9559060335159302,\n",
              "  2.003857374191284,\n",
              "  1.982532024383545,\n",
              "  2.0845978260040283,\n",
              "  2.318192481994629],\n",
              " [19.238262176513672,\n",
              "  16.23911476135254,\n",
              "  12.370307922363281,\n",
              "  8.249543190002441,\n",
              "  5.760884761810303,\n",
              "  4.739426136016846,\n",
              "  4.19956636428833,\n",
              "  3.8521478176116943,\n",
              "  3.6614580154418945,\n",
              "  3.5948517322540283,\n",
              "  3.46586537361145,\n",
              "  3.36088490486145,\n",
              "  3.191754102706909,\n",
              "  3.1455681324005127,\n",
              "  3.190457582473755,\n",
              "  3.0650439262390137,\n",
              "  3.0002083778381348,\n",
              "  3.009580373764038,\n",
              "  2.9378955364227295,\n",
              "  2.9499309062957764,\n",
              "  3.001821279525757,\n",
              "  2.899287223815918,\n",
              "  2.8100368976593018,\n",
              "  2.8347325325012207,\n",
              "  2.8863627910614014,\n",
              "  2.7651288509368896,\n",
              "  2.880091667175293,\n",
              "  2.8070197105407715,\n",
              "  2.860623836517334,\n",
              "  2.8839800357818604,\n",
              "  2.8689181804656982,\n",
              "  2.7363767623901367,\n",
              "  2.731779098510742,\n",
              "  2.78378963470459,\n",
              "  2.6502373218536377,\n",
              "  2.6965713500976562,\n",
              "  2.7009763717651367,\n",
              "  2.6929821968078613,\n",
              "  2.7496137619018555,\n",
              "  2.590824842453003,\n",
              "  2.596938371658325,\n",
              "  2.5912959575653076,\n",
              "  2.641709804534912,\n",
              "  2.772170305252075,\n",
              "  2.757110357284546,\n",
              "  2.6060092449188232,\n",
              "  2.618107318878174,\n",
              "  2.7227485179901123,\n",
              "  2.637791395187378,\n",
              "  2.622373104095459,\n",
              "  2.555191993713379,\n",
              "  2.6453282833099365,\n",
              "  2.6741280555725098,\n",
              "  2.558717966079712,\n",
              "  2.609473466873169,\n",
              "  2.5952556133270264,\n",
              "  2.5488827228546143,\n",
              "  2.578604221343994,\n",
              "  2.5923843383789062,\n",
              "  2.499892234802246,\n",
              "  2.5856523513793945,\n",
              "  2.553149938583374,\n",
              "  2.518234968185425,\n",
              "  2.5085606575012207,\n",
              "  2.4846794605255127,\n",
              "  2.522412061691284,\n",
              "  2.6234970092773438,\n",
              "  2.5233631134033203,\n",
              "  2.6468570232391357,\n",
              "  2.445354700088501,\n",
              "  2.49072527885437,\n",
              "  2.4659476280212402,\n",
              "  2.4621520042419434,\n",
              "  2.6303844451904297,\n",
              "  2.5430402755737305,\n",
              "  2.5070292949676514,\n",
              "  2.6221561431884766,\n",
              "  2.482984781265259,\n",
              "  2.4767539501190186,\n",
              "  2.4849348068237305,\n",
              "  2.565884828567505,\n",
              "  2.390916585922241,\n",
              "  2.5119142532348633,\n",
              "  2.444486618041992,\n",
              "  2.4024124145507812],\n",
              " [19.195598602294922,\n",
              "  16.607704162597656,\n",
              "  13.48005199432373,\n",
              "  10.026681900024414,\n",
              "  7.495395183563232,\n",
              "  5.93755578994751,\n",
              "  4.829014778137207,\n",
              "  4.059372901916504,\n",
              "  3.6241016387939453,\n",
              "  3.3165767192840576,\n",
              "  3.1674158573150635,\n",
              "  2.9965014457702637,\n",
              "  2.915830373764038,\n",
              "  2.7771971225738525,\n",
              "  2.71250057220459,\n",
              "  2.6901168823242188,\n",
              "  2.6497979164123535,\n",
              "  2.6366827487945557,\n",
              "  2.6734778881073,\n",
              "  2.6564083099365234,\n",
              "  2.6593685150146484,\n",
              "  2.7473788261413574,\n",
              "  2.6512019634246826,\n",
              "  2.6344728469848633,\n",
              "  2.6958811283111572,\n",
              "  2.6391468048095703,\n",
              "  2.654451608657837,\n",
              "  2.636171340942383,\n",
              "  2.6331369876861572,\n",
              "  2.6790544986724854,\n",
              "  2.6139512062072754,\n",
              "  2.628701686859131,\n",
              "  2.665553331375122,\n",
              "  2.713374614715576,\n",
              "  2.6250689029693604,\n",
              "  2.7173683643341064,\n",
              "  2.7181148529052734,\n",
              "  2.6368110179901123,\n",
              "  2.6185712814331055,\n",
              "  2.6210076808929443,\n",
              "  2.6216135025024414,\n",
              "  2.731879472732544,\n",
              "  2.6107232570648193,\n",
              "  2.613884925842285,\n",
              "  2.6463263034820557,\n",
              "  2.6024904251098633,\n",
              "  2.585880756378174,\n",
              "  2.586886167526245,\n",
              "  2.6138534545898438,\n",
              "  2.5915422439575195,\n",
              "  2.675574541091919,\n",
              "  2.6148300170898438,\n",
              "  2.70599627494812,\n",
              "  2.6500425338745117,\n",
              "  2.709444284439087,\n",
              "  2.6334831714630127,\n",
              "  2.613149881362915,\n",
              "  2.651139736175537,\n",
              "  2.5898287296295166,\n",
              "  2.6272823810577393,\n",
              "  2.5721256732940674,\n",
              "  2.600795030593872,\n",
              "  2.6885170936584473,\n",
              "  2.6239373683929443,\n",
              "  2.510951519012451,\n",
              "  2.6286227703094482,\n",
              "  2.598310708999634,\n",
              "  2.676724910736084,\n",
              "  2.6036369800567627,\n",
              "  2.7616426944732666,\n",
              "  2.6050796508789062,\n",
              "  2.6974191665649414,\n",
              "  2.6734683513641357,\n",
              "  2.724586009979248,\n",
              "  2.676121711730957,\n",
              "  2.652712345123291,\n",
              "  2.5630531311035156,\n",
              "  2.5765419006347656,\n",
              "  2.571518898010254,\n",
              "  2.5603997707366943,\n",
              "  2.6117959022521973,\n",
              "  2.5855720043182373,\n",
              "  2.6850996017456055,\n",
              "  2.738676071166992,\n",
              "  2.706400156021118],\n",
              " [20.927814483642578,\n",
              "  17.23197364807129,\n",
              "  12.273544311523438,\n",
              "  8.48772144317627,\n",
              "  6.750110626220703,\n",
              "  5.723910808563232,\n",
              "  4.824832916259766,\n",
              "  4.332279205322266,\n",
              "  4.017391204833984,\n",
              "  3.867716073989868,\n",
              "  3.589754104614258,\n",
              "  3.49802303314209,\n",
              "  3.4417576789855957,\n",
              "  3.1623916625976562,\n",
              "  3.1191375255584717,\n",
              "  3.0239226818084717,\n",
              "  2.99888014793396,\n",
              "  2.9987597465515137,\n",
              "  2.9023778438568115,\n",
              "  2.9013447761535645,\n",
              "  2.89802622795105,\n",
              "  2.804370164871216,\n",
              "  2.8804354667663574,\n",
              "  2.846482038497925,\n",
              "  2.769177198410034,\n",
              "  2.8082938194274902,\n",
              "  2.7102952003479004,\n",
              "  2.7324821949005127,\n",
              "  2.7215993404388428,\n",
              "  2.8689448833465576,\n",
              "  2.778095006942749,\n",
              "  2.7401394844055176,\n",
              "  2.7328269481658936,\n",
              "  2.73264217376709,\n",
              "  2.595008134841919,\n",
              "  2.6235296726226807,\n",
              "  2.730684995651245,\n",
              "  2.715918779373169,\n",
              "  2.6503841876983643,\n",
              "  2.641132116317749,\n",
              "  2.594505786895752,\n",
              "  2.5844340324401855,\n",
              "  2.6257214546203613,\n",
              "  2.5280184745788574,\n",
              "  2.5876924991607666,\n",
              "  2.571814775466919,\n",
              "  2.582751989364624,\n",
              "  2.5586628913879395,\n",
              "  2.602302074432373,\n",
              "  2.5499513149261475,\n",
              "  2.4798583984375,\n",
              "  2.6215898990631104,\n",
              "  2.624466896057129,\n",
              "  2.545759677886963,\n",
              "  2.576155185699463,\n",
              "  2.6811094284057617,\n",
              "  2.628627300262451,\n",
              "  2.50848650932312,\n",
              "  2.549755334854126,\n",
              "  2.6928322315216064,\n",
              "  2.6305360794067383,\n",
              "  2.5495402812957764,\n",
              "  2.5997684001922607,\n",
              "  2.605145215988159,\n",
              "  2.543635368347168,\n",
              "  2.5672943592071533,\n",
              "  2.544984817504883,\n",
              "  2.576671600341797,\n",
              "  2.5495195388793945,\n",
              "  2.605854034423828,\n",
              "  2.7768735885620117,\n",
              "  2.5646181106567383,\n",
              "  2.6059844493865967,\n",
              "  2.593616247177124,\n",
              "  2.6353650093078613,\n",
              "  2.6097679138183594,\n",
              "  2.598301649093628,\n",
              "  2.5671820640563965,\n",
              "  2.5236010551452637,\n",
              "  2.527916669845581,\n",
              "  2.56634783744812,\n",
              "  2.630441904067993,\n",
              "  2.6331472396850586,\n",
              "  2.5737385749816895,\n",
              "  2.6912682056427]]"
            ]
          },
          "metadata": {},
          "execution_count": 263
        }
      ]
    },
    {
      "cell_type": "code",
      "source": [
        "len(all_history[0])"
      ],
      "metadata": {
        "colab": {
          "base_uri": "https://localhost:8080/"
        },
        "id": "p97M3sPIUHNi",
        "outputId": "cc7521b0-9437-4031-a6ff-ffe1b0516207"
      },
      "execution_count": 264,
      "outputs": [
        {
          "output_type": "execute_result",
          "data": {
            "text/plain": [
              "85"
            ]
          },
          "metadata": {},
          "execution_count": 264
        }
      ]
    },
    {
      "cell_type": "markdown",
      "source": [
        "## Results"
      ],
      "metadata": {
        "id": "cLUo0EqZyQ32"
      }
    },
    {
      "cell_type": "code",
      "source": [
        "all_mae_avg = pd.DataFrame(all_history).mean(axis=0)"
      ],
      "metadata": {
        "id": "j432PYalx3C0"
      },
      "execution_count": 265,
      "outputs": []
    },
    {
      "cell_type": "code",
      "source": [
        "all_mae_avg"
      ],
      "metadata": {
        "colab": {
          "base_uri": "https://localhost:8080/"
        },
        "id": "SXlW_jLTyd2Q",
        "outputId": "ccd67c71-6100-415a-c70f-16834ed02861"
      },
      "execution_count": 266,
      "outputs": [
        {
          "output_type": "execute_result",
          "data": {
            "text/plain": [
              "0     19.391671\n",
              "1     16.173234\n",
              "2     12.099069\n",
              "3      8.369162\n",
              "4      6.277132\n",
              "        ...    \n",
              "80     2.424984\n",
              "81     2.402697\n",
              "82     2.453173\n",
              "83     2.460375\n",
              "84     2.529568\n",
              "Length: 85, dtype: float64"
            ]
          },
          "metadata": {},
          "execution_count": 266
        }
      ]
    },
    {
      "cell_type": "code",
      "source": [
        "import matplotlib.pyplot as plt\n",
        "\n",
        "fig = plt.figure(figsize=(10,10))\n",
        "plt.plot(range(1, len(all_mae_avg[15:])+1), all_mae_avg[15:])\n",
        "plt.show()"
      ],
      "metadata": {
        "colab": {
          "base_uri": "https://localhost:8080/",
          "height": 592
        },
        "id": "myHcsIASygIm",
        "outputId": "81db1a23-e99b-4fdc-811c-2c33a4ef79cd"
      },
      "execution_count": 267,
      "outputs": [
        {
          "output_type": "display_data",
          "data": {
            "text/plain": [
              "<Figure size 720x720 with 1 Axes>"
            ],
            "image/png": "[encoded data removed]"
          },
          "metadata": {
            "needs_background": "light"
          }
        }
      ]
    },
    {
      "cell_type": "code",
      "source": [
        "model.evaluate(test_data, test_targets)\n",
        "#mean absolut error"
      ],
      "metadata": {
        "colab": {
          "base_uri": "https://localhost:8080/"
        },
        "id": "Ou1T7sbZ0jZW",
        "outputId": "86c36d57-8e91-4668-a89c-cee2a19164b1"
      },
      "execution_count": 268,
      "outputs": [
        {
          "output_type": "stream",
          "name": "stdout",
          "text": [
            "4/4 [==============================] - 0s 5ms/step - loss: 20.9415 - mae: 2.8664\n"
          ]
        },
        {
          "output_type": "execute_result",
          "data": {
            "text/plain": [
              "[20.941452026367188, 2.866361618041992]"
            ]
          },
          "metadata": {},
          "execution_count": 268
        }
      ]
    },
    {
      "cell_type": "code",
      "source": [],
      "metadata": {
        "id": "GEIOSOee2UhF"
      },
      "execution_count": 268,
      "outputs": []
    }
  ]
}