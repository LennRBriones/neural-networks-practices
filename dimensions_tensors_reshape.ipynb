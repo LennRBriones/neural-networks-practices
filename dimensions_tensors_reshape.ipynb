{
  "nbformat": 4,
  "nbformat_minor": 0,
  "metadata": {
    "colab": {
      "provenance": [],
      "authorship_tag": "ABX9TyORczJ7gCHTqoM/+7jJuzU2",
      "include_colab_link": true
    },
    "kernelspec": {
      "name": "python3",
      "display_name": "Python 3"
    },
    "language_info": {
      "name": "python"
    }
  },
  "cells": [
    {
      "cell_type": "markdown",
      "metadata": {
        "id": "view-in-github",
        "colab_type": "text"
      },
      "source": [
        "<a href=\"https://colab.research.google.com/github/LennRBriones/neural-networks-practices/blob/main/dimensions_tensors_reshape.ipynb\" target=\"_parent\"><img src=\"https://colab.research.google.com/assets/colab-badge.svg\" alt=\"Open In Colab\"/></a>"
      ]
    },
    {
      "cell_type": "code",
      "execution_count": 1,
      "metadata": {
        "id": "jQqynupl471s"
      },
      "outputs": [],
      "source": [
        "import numpy as np"
      ]
    },
    {
      "cell_type": "markdown",
      "source": [
        "## Scalar"
      ],
      "metadata": {
        "id": "yx3l1zSS5SfY"
      }
    },
    {
      "cell_type": "code",
      "source": [
        "x = np.array(42)\n",
        "print(x.shape)\n",
        "x.ndim"
      ],
      "metadata": {
        "colab": {
          "base_uri": "https://localhost:8080/"
        },
        "id": "gjoi3K-M4-su",
        "outputId": "5981bf0d-8684-496f-ae6a-f6dd89e2d1bd"
      },
      "execution_count": 3,
      "outputs": [
        {
          "output_type": "stream",
          "name": "stdout",
          "text": [
            "()\n"
          ]
        },
        {
          "output_type": "execute_result",
          "data": {
            "text/plain": [
              "0"
            ]
          },
          "metadata": {},
          "execution_count": 3
        }
      ]
    },
    {
      "cell_type": "markdown",
      "source": [
        "## Vector"
      ],
      "metadata": {
        "id": "co_y7LS85VZR"
      }
    },
    {
      "cell_type": "code",
      "source": [
        "x = np.array([42,3,5,3,6,7])\n",
        "print(x.shape)\n",
        "x.ndim"
      ],
      "metadata": {
        "colab": {
          "base_uri": "https://localhost:8080/"
        },
        "id": "jHpLTg6C5NPV",
        "outputId": "18756ec9-8ba4-4ba3-8047-68033db9f40e"
      },
      "execution_count": 4,
      "outputs": [
        {
          "output_type": "stream",
          "name": "stdout",
          "text": [
            "(6,)\n"
          ]
        },
        {
          "output_type": "execute_result",
          "data": {
            "text/plain": [
              "1"
            ]
          },
          "metadata": {},
          "execution_count": 4
        }
      ]
    },
    {
      "cell_type": "markdown",
      "source": [
        "## Matrix"
      ],
      "metadata": {
        "id": "yZigI0hn5eur"
      }
    },
    {
      "cell_type": "code",
      "source": [
        "x = np.array([[42,3,5,3,6,7],\n",
        "             [66,54,5,343,6,7]])\n",
        "print(x.shape)\n",
        "x.ndim"
      ],
      "metadata": {
        "colab": {
          "base_uri": "https://localhost:8080/"
        },
        "id": "ipB3geVy5blN",
        "outputId": "825815b9-e994-4c00-bb1d-08eebafd7764"
      },
      "execution_count": 5,
      "outputs": [
        {
          "output_type": "stream",
          "name": "stdout",
          "text": [
            "(2, 6)\n"
          ]
        },
        {
          "output_type": "execute_result",
          "data": {
            "text/plain": [
              "2"
            ]
          },
          "metadata": {},
          "execution_count": 5
        }
      ]
    },
    {
      "cell_type": "markdown",
      "source": [
        "## Tensor"
      ],
      "metadata": {
        "id": "A0qQhTj156O2"
      }
    },
    {
      "cell_type": "code",
      "source": [
        "x = np.array([[[42,3,5,3,6,7],\n",
        "             [66,54,5,343,6,7]],\n",
        "             [[42,3,5,3,6,7],\n",
        "             [66,54,5,343,6,7]],\n",
        "             [[42,3,5,3,6,7],\n",
        "             [66,54,5,343,6,7]]])\n",
        "print(x.shape)\n",
        "x.ndim"
      ],
      "metadata": {
        "colab": {
          "base_uri": "https://localhost:8080/"
        },
        "id": "P4bT304053jK",
        "outputId": "3946f19a-9eb4-4245-b9f8-58d97bf4d578"
      },
      "execution_count": 8,
      "outputs": [
        {
          "output_type": "stream",
          "name": "stdout",
          "text": [
            "(3, 2, 6)\n"
          ]
        },
        {
          "output_type": "execute_result",
          "data": {
            "text/plain": [
              "3"
            ]
          },
          "metadata": {},
          "execution_count": 8
        }
      ]
    },
    {
      "cell_type": "code",
      "source": [],
      "metadata": {
        "id": "USIGRqlK6Krh"
      },
      "execution_count": null,
      "outputs": []
    }
  ]
}